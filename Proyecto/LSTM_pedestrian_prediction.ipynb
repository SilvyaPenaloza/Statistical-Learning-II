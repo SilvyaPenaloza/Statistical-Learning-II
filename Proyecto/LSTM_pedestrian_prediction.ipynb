{
  "nbformat": 4,
  "nbformat_minor": 0,
  "metadata": {
    "colab": {
      "provenance": []
    },
    "kernelspec": {
      "name": "python3",
      "display_name": "Python 3"
    },
    "language_info": {
      "name": "python"
    },
    "gpuClass": "standard",
    "accelerator": "GPU"
  },
  "cells": [
    {
      "cell_type": "markdown",
      "source": [
        "###Implementación de LSTM para predicción de trayectoria de peatones"
      ],
      "metadata": {
        "id": "HZBMCdGxJWnN"
      }
    },
    {
      "cell_type": "code",
      "source": [
        "#!unzip '/content/drive/MyDrive/ProyectoSL2/data/stanford-dataset-meters.zip' -d '/content/drive/MyDrive/ProyectoSL2/data/standford-dataset-meters'\n"
      ],
      "metadata": {
        "id": "Nh210FpN5K3Q"
      },
      "execution_count": null,
      "outputs": []
    },
    {
      "cell_type": "markdown",
      "source": [
        "Instalación de wandb para observar el comportamiento de los parametros del modelo"
      ],
      "metadata": {
        "id": "GnI_WfxQJmqJ"
      }
    },
    {
      "cell_type": "code",
      "source": [
        "!pip install wandb"
      ],
      "metadata": {
        "colab": {
          "base_uri": "https://localhost:8080/"
        },
        "id": "KCXT3qwAlflQ",
        "outputId": "104b8e97-68cb-4255-8577-7298f916d188"
      },
      "execution_count": null,
      "outputs": [
        {
          "output_type": "stream",
          "name": "stdout",
          "text": [
            "Looking in indexes: https://pypi.org/simple, https://us-python.pkg.dev/colab-wheels/public/simple/\n",
            "Requirement already satisfied: wandb in /usr/local/lib/python3.7/dist-packages (0.13.3)\n",
            "Requirement already satisfied: Click!=8.0.0,>=7.0 in /usr/local/lib/python3.7/dist-packages (from wandb) (7.1.2)\n",
            "Requirement already satisfied: GitPython>=1.0.0 in /usr/local/lib/python3.7/dist-packages (from wandb) (3.1.27)\n",
            "Requirement already satisfied: sentry-sdk>=1.0.0 in /usr/local/lib/python3.7/dist-packages (from wandb) (1.9.0)\n",
            "Requirement already satisfied: setuptools in /usr/local/lib/python3.7/dist-packages (from wandb) (57.4.0)\n",
            "Requirement already satisfied: protobuf<4.0dev,>=3.12.0 in /usr/local/lib/python3.7/dist-packages (from wandb) (3.17.3)\n",
            "Requirement already satisfied: pathtools in /usr/local/lib/python3.7/dist-packages (from wandb) (0.1.2)\n",
            "Requirement already satisfied: requests<3,>=2.0.0 in /usr/local/lib/python3.7/dist-packages (from wandb) (2.23.0)\n",
            "Requirement already satisfied: psutil>=5.0.0 in /usr/local/lib/python3.7/dist-packages (from wandb) (5.4.8)\n",
            "Requirement already satisfied: shortuuid>=0.5.0 in /usr/local/lib/python3.7/dist-packages (from wandb) (1.0.9)\n",
            "Requirement already satisfied: six>=1.13.0 in /usr/local/lib/python3.7/dist-packages (from wandb) (1.15.0)\n",
            "Requirement already satisfied: promise<3,>=2.0 in /usr/local/lib/python3.7/dist-packages (from wandb) (2.3)\n",
            "Requirement already satisfied: setproctitle in /usr/local/lib/python3.7/dist-packages (from wandb) (1.3.2)\n",
            "Requirement already satisfied: PyYAML in /usr/local/lib/python3.7/dist-packages (from wandb) (6.0)\n",
            "Requirement already satisfied: docker-pycreds>=0.4.0 in /usr/local/lib/python3.7/dist-packages (from wandb) (0.4.0)\n",
            "Requirement already satisfied: typing-extensions>=3.7.4.3 in /usr/local/lib/python3.7/dist-packages (from GitPython>=1.0.0->wandb) (4.1.1)\n",
            "Requirement already satisfied: gitdb<5,>=4.0.1 in /usr/local/lib/python3.7/dist-packages (from GitPython>=1.0.0->wandb) (4.0.9)\n",
            "Requirement already satisfied: smmap<6,>=3.0.1 in /usr/local/lib/python3.7/dist-packages (from gitdb<5,>=4.0.1->GitPython>=1.0.0->wandb) (5.0.0)\n",
            "Requirement already satisfied: idna<3,>=2.5 in /usr/local/lib/python3.7/dist-packages (from requests<3,>=2.0.0->wandb) (2.10)\n",
            "Requirement already satisfied: chardet<4,>=3.0.2 in /usr/local/lib/python3.7/dist-packages (from requests<3,>=2.0.0->wandb) (3.0.4)\n",
            "Requirement already satisfied: urllib3!=1.25.0,!=1.25.1,<1.26,>=1.21.1 in /usr/local/lib/python3.7/dist-packages (from requests<3,>=2.0.0->wandb) (1.24.3)\n",
            "Requirement already satisfied: certifi>=2017.4.17 in /usr/local/lib/python3.7/dist-packages (from requests<3,>=2.0.0->wandb) (2022.6.15)\n"
          ]
        }
      ]
    },
    {
      "cell_type": "code",
      "source": [
        "import wandb\n",
        "from wandb.keras import WandbCallback\n",
        "\n",
        "wandb.init(project=\"ProyectoSL2\")"
      ],
      "metadata": {
        "colab": {
          "base_uri": "https://localhost:8080/",
          "height": 145
        },
        "id": "Ugquhroslrfa",
        "outputId": "4b00f695-ca1c-4a6a-e6a1-977323e5d911"
      },
      "execution_count": null,
      "outputs": [
        {
          "output_type": "stream",
          "name": "stderr",
          "text": [
            "ERROR:wandb.jupyter:Failed to detect the name of this notebook, you can set it manually with the WANDB_NOTEBOOK_NAME environment variable to enable code saving.\n",
            "\u001b[34m\u001b[1mwandb\u001b[0m: Currently logged in as: \u001b[33msilvya\u001b[0m. Use \u001b[1m`wandb login --relogin`\u001b[0m to force relogin\n"
          ]
        },
        {
          "output_type": "display_data",
          "data": {
            "text/plain": [
              "<IPython.core.display.HTML object>"
            ],
            "text/html": [
              "Tracking run with wandb version 0.13.3"
            ]
          },
          "metadata": {}
        },
        {
          "output_type": "display_data",
          "data": {
            "text/plain": [
              "<IPython.core.display.HTML object>"
            ],
            "text/html": [
              "Run data is saved locally in <code>/content/wandb/run-20220919_165344-1kvrn8lk</code>"
            ]
          },
          "metadata": {}
        },
        {
          "output_type": "display_data",
          "data": {
            "text/plain": [
              "<IPython.core.display.HTML object>"
            ],
            "text/html": [
              "Syncing run <strong><a href=\"https://wandb.ai/silvya/ProyectoSL2/runs/1kvrn8lk\" target=\"_blank\">jolly-pyramid-33</a></strong> to <a href=\"https://wandb.ai/silvya/ProyectoSL2\" target=\"_blank\">Weights & Biases</a> (<a href=\"https://wandb.me/run\" target=\"_blank\">docs</a>)<br/>"
            ]
          },
          "metadata": {}
        },
        {
          "output_type": "execute_result",
          "data": {
            "text/html": [
              "<button onClick=\"this.nextSibling.style.display='block';this.style.display='none';\">Display W&B run</button><iframe src=\"https://wandb.ai/silvya/ProyectoSL2/runs/1kvrn8lk?jupyter=true\" style=\"border:none;width:100%;height:420px;display:none;\"></iframe>"
            ],
            "text/plain": [
              "<wandb.sdk.wandb_run.Run at 0x7fa9b0bcac10>"
            ]
          },
          "metadata": {},
          "execution_count": 3
        }
      ]
    },
    {
      "cell_type": "code",
      "source": [
        "import pandas as pd\n",
        "import numpy as np\n",
        "import tensorflow as tf"
      ],
      "metadata": {
        "id": "8cVu3gu0L6Se"
      },
      "execution_count": null,
      "outputs": []
    },
    {
      "cell_type": "markdown",
      "source": [
        "####Preparación de Datos a utilizar"
      ],
      "metadata": {
        "id": "NUzzqMnDJvTr"
      }
    },
    {
      "cell_type": "code",
      "source": [
        "#Funcion para dividir una sequencia multivariable en muestras\n",
        "def split_sequences(sequences, n_steps_in, n_steps_out):\n",
        "\tX, y = list(), list()\n",
        "\tfor i in range(len(sequences)):\n",
        "\t\t# Encontrar el final del patron\n",
        "\t\tend_ix = i + n_steps_in\n",
        "\t\tout_end_ix = end_ix + n_steps_out\n",
        "\t\t\n",
        "\t\tif out_end_ix > len(sequences): # verificar que si se llego al final del dataset\n",
        "\t\t\tbreak\n",
        "\t\t\n",
        "\t\t# unir entradas y salidas del patron\n",
        "\t\tseq_x, seq_y = sequences[i:end_ix, :], sequences[end_ix:out_end_ix, :]\n",
        "\t\tX.append(seq_x)\n",
        "\t\ty.append(seq_y)\n",
        "\treturn np.array(X), np.array(y)"
      ],
      "metadata": {
        "id": "3lCoJdCeOivW"
      },
      "execution_count": null,
      "outputs": []
    },
    {
      "cell_type": "code",
      "source": [
        "from random import Random\t\n",
        "\n",
        "#funcion para preparar la estructura de los datos para poder utilizarlo con estructura de aprendizaje supervisado\n",
        "def sequences_to_supervised(dataframe, n_steps_in, n_steps_out, n_features):\n",
        "  X_all = np.empty([0,n_steps_in,n_features]) # n_features = number of features: x, y\n",
        "  y_all = np.empty([0,n_steps_out,n_features]) # n_features = number of features: x,y\n",
        "       \n",
        "  dataframe_groups = dataframe.groupby(['id']) #se agrupan las secuencias de cada peaton\n",
        "  \n",
        "  groups = list(dataframe.groupby(['id'])) \n",
        "  Random(1).shuffle(groups)  #secuencias aleatorias agrupadas por el id del peaton\n",
        " \n",
        "\n",
        "  for group in groups:\n",
        "    X, y = split_sequences(group[1].drop(columns=[\"id\"]).values, n_steps_in,n_steps_out) # 2 features, x, y\n",
        "         \n",
        "    X_all = np.concatenate((X_all,X))\n",
        "    y_all = np.concatenate((y_all,y))\n",
        "                   \n",
        "  return X_all, y_all      "
      ],
      "metadata": {
        "id": "vGp2nsOqQxan"
      },
      "execution_count": null,
      "outputs": []
    },
    {
      "cell_type": "code",
      "source": [
        "n_features = 2   # features x, y (posicion del peaton en un tiempo t)\n",
        "n_steps_in = 8   # 8 pasos de entrada (secuencia de trayectoria inicial)\n",
        "n_steps_out = 12 # 12 pasos de salida (secuencia de trayectoria a predecir)"
      ],
      "metadata": {
        "id": "5scrKNbGQxWw"
      },
      "execution_count": null,
      "outputs": []
    },
    {
      "cell_type": "markdown",
      "source": [
        "Extracción y carga de datos a utilizar para el entrenamiento del modelo"
      ],
      "metadata": {
        "id": "9O3HELK1KGeO"
      }
    },
    {
      "cell_type": "code",
      "source": [
        "#los datos se encuentran en archivos por separado, se unen archivos para el training data\n",
        "train_files = ['/content/drive/MyDrive/ProyectoSL2/data/standford-dataset-meters/train/bookstore_0.txt',\n",
        "               '/content/drive/MyDrive/ProyectoSL2/data/standford-dataset-meters/train/bookstore_1.txt',\n",
        "               '/content/drive/MyDrive/ProyectoSL2/data/standford-dataset-meters/train/bookstore_2.txt']\n",
        "\n",
        "df =pd.DataFrame()\n",
        "\n",
        "for i in range(len(train_files)):\n",
        "  data = pd.read_csv(train_files[i],sep=' ', header=None, names=['time','id','x','y'])\n",
        "  data['id'] = data['id'].apply(lambda x: str(i)+str(x))\n",
        "\n",
        "  df = pd.concat([df,data],ignore_index=True)"
      ],
      "metadata": {
        "id": "E8Hk4iPY72gg"
      },
      "execution_count": null,
      "outputs": []
    },
    {
      "cell_type": "markdown",
      "source": [
        "El dataset contiene cuatro columnas \n",
        "\n",
        "**id:** el id del peaton\n",
        "\n",
        "**time:** contiene el tiempo de la secuencia de trayectoria de un peaton, son 20 timestep por cada peaton.\n",
        "\n",
        "**x:** coordenada x en metros de la posición en un punto de la secuencia de trayectoria \n",
        "\n",
        "**y:** coordenada y en metros de la posicion en un punto de la secuencia de trayectoria "
      ],
      "metadata": {
        "id": "FkHkCY3WKPCp"
      }
    },
    {
      "cell_type": "code",
      "source": [
        "df.head(40)"
      ],
      "metadata": {
        "id": "j-dOA-EnKUFX",
        "colab": {
          "base_uri": "https://localhost:8080/",
          "height": 1000
        },
        "outputId": "a349d174-8617-4565-9d89-dfe881fee65a"
      },
      "execution_count": null,
      "outputs": [
        {
          "output_type": "execute_result",
          "data": {
            "text/plain": [
              "    time    id      x       y\n",
              "0      0  0100  1.728  14.378\n",
              "1     12  0100  2.035  14.378\n",
              "2     24  0100  2.342  14.378\n",
              "3     36  0100  2.630  14.378\n",
              "4     48  0100  2.937  14.416\n",
              "5     60  0100  3.244  14.416\n",
              "6     72  0100  3.551  14.416\n",
              "7     84  0100  3.782  14.416\n",
              "8     96  0100  4.089  14.416\n",
              "9    108  0100  4.242  14.512\n",
              "10   120  0100  4.242  14.512\n",
              "11   132  0100  4.300  14.512\n",
              "12   144  0100  4.300  14.512\n",
              "13   156  0100  4.377  14.512\n",
              "14   168  0100  4.453  14.512\n",
              "15   180  0100  4.453  14.512\n",
              "16   192  0100  4.530  14.512\n",
              "17   204  0100  4.530  14.339\n",
              "18   216  0100  4.530  14.263\n",
              "19   228  0100  4.530  14.071\n",
              "20     0  0129  7.122 -13.860\n",
              "21    12  0129  6.853 -13.591\n",
              "22    24  0129  6.584 -13.341\n",
              "23    36  0129  6.200 -13.341\n",
              "24    48  0129  5.836 -13.341\n",
              "25    60  0129  5.452 -13.341\n",
              "26    72  0129  5.068 -13.341\n",
              "27    84  0129  4.761 -13.245\n",
              "28    96  0129  4.530 -13.245\n",
              "29   108  0129  4.242 -13.149\n",
              "30   120  0129  3.935 -13.072\n",
              "31   132  0129  3.628 -13.072\n",
              "32   144  0129  3.321 -13.072\n",
              "33   156  0129  3.014 -13.072\n",
              "34   168  0129  2.668 -13.111\n",
              "35   180  0129  2.342 -13.149\n",
              "36   192  0129  1.996 -13.245\n",
              "37   204  0129  1.766 -13.245\n",
              "38   216  0129  1.536 -13.245\n",
              "39   228  0129  1.229 -13.341"
            ],
            "text/html": [
              "\n",
              "  <div id=\"df-e7b91364-5a67-4c52-b044-246c1eeb315c\">\n",
              "    <div class=\"colab-df-container\">\n",
              "      <div>\n",
              "<style scoped>\n",
              "    .dataframe tbody tr th:only-of-type {\n",
              "        vertical-align: middle;\n",
              "    }\n",
              "\n",
              "    .dataframe tbody tr th {\n",
              "        vertical-align: top;\n",
              "    }\n",
              "\n",
              "    .dataframe thead th {\n",
              "        text-align: right;\n",
              "    }\n",
              "</style>\n",
              "<table border=\"1\" class=\"dataframe\">\n",
              "  <thead>\n",
              "    <tr style=\"text-align: right;\">\n",
              "      <th></th>\n",
              "      <th>time</th>\n",
              "      <th>id</th>\n",
              "      <th>x</th>\n",
              "      <th>y</th>\n",
              "    </tr>\n",
              "  </thead>\n",
              "  <tbody>\n",
              "    <tr>\n",
              "      <th>0</th>\n",
              "      <td>0</td>\n",
              "      <td>0100</td>\n",
              "      <td>1.728</td>\n",
              "      <td>14.378</td>\n",
              "    </tr>\n",
              "    <tr>\n",
              "      <th>1</th>\n",
              "      <td>12</td>\n",
              "      <td>0100</td>\n",
              "      <td>2.035</td>\n",
              "      <td>14.378</td>\n",
              "    </tr>\n",
              "    <tr>\n",
              "      <th>2</th>\n",
              "      <td>24</td>\n",
              "      <td>0100</td>\n",
              "      <td>2.342</td>\n",
              "      <td>14.378</td>\n",
              "    </tr>\n",
              "    <tr>\n",
              "      <th>3</th>\n",
              "      <td>36</td>\n",
              "      <td>0100</td>\n",
              "      <td>2.630</td>\n",
              "      <td>14.378</td>\n",
              "    </tr>\n",
              "    <tr>\n",
              "      <th>4</th>\n",
              "      <td>48</td>\n",
              "      <td>0100</td>\n",
              "      <td>2.937</td>\n",
              "      <td>14.416</td>\n",
              "    </tr>\n",
              "    <tr>\n",
              "      <th>5</th>\n",
              "      <td>60</td>\n",
              "      <td>0100</td>\n",
              "      <td>3.244</td>\n",
              "      <td>14.416</td>\n",
              "    </tr>\n",
              "    <tr>\n",
              "      <th>6</th>\n",
              "      <td>72</td>\n",
              "      <td>0100</td>\n",
              "      <td>3.551</td>\n",
              "      <td>14.416</td>\n",
              "    </tr>\n",
              "    <tr>\n",
              "      <th>7</th>\n",
              "      <td>84</td>\n",
              "      <td>0100</td>\n",
              "      <td>3.782</td>\n",
              "      <td>14.416</td>\n",
              "    </tr>\n",
              "    <tr>\n",
              "      <th>8</th>\n",
              "      <td>96</td>\n",
              "      <td>0100</td>\n",
              "      <td>4.089</td>\n",
              "      <td>14.416</td>\n",
              "    </tr>\n",
              "    <tr>\n",
              "      <th>9</th>\n",
              "      <td>108</td>\n",
              "      <td>0100</td>\n",
              "      <td>4.242</td>\n",
              "      <td>14.512</td>\n",
              "    </tr>\n",
              "    <tr>\n",
              "      <th>10</th>\n",
              "      <td>120</td>\n",
              "      <td>0100</td>\n",
              "      <td>4.242</td>\n",
              "      <td>14.512</td>\n",
              "    </tr>\n",
              "    <tr>\n",
              "      <th>11</th>\n",
              "      <td>132</td>\n",
              "      <td>0100</td>\n",
              "      <td>4.300</td>\n",
              "      <td>14.512</td>\n",
              "    </tr>\n",
              "    <tr>\n",
              "      <th>12</th>\n",
              "      <td>144</td>\n",
              "      <td>0100</td>\n",
              "      <td>4.300</td>\n",
              "      <td>14.512</td>\n",
              "    </tr>\n",
              "    <tr>\n",
              "      <th>13</th>\n",
              "      <td>156</td>\n",
              "      <td>0100</td>\n",
              "      <td>4.377</td>\n",
              "      <td>14.512</td>\n",
              "    </tr>\n",
              "    <tr>\n",
              "      <th>14</th>\n",
              "      <td>168</td>\n",
              "      <td>0100</td>\n",
              "      <td>4.453</td>\n",
              "      <td>14.512</td>\n",
              "    </tr>\n",
              "    <tr>\n",
              "      <th>15</th>\n",
              "      <td>180</td>\n",
              "      <td>0100</td>\n",
              "      <td>4.453</td>\n",
              "      <td>14.512</td>\n",
              "    </tr>\n",
              "    <tr>\n",
              "      <th>16</th>\n",
              "      <td>192</td>\n",
              "      <td>0100</td>\n",
              "      <td>4.530</td>\n",
              "      <td>14.512</td>\n",
              "    </tr>\n",
              "    <tr>\n",
              "      <th>17</th>\n",
              "      <td>204</td>\n",
              "      <td>0100</td>\n",
              "      <td>4.530</td>\n",
              "      <td>14.339</td>\n",
              "    </tr>\n",
              "    <tr>\n",
              "      <th>18</th>\n",
              "      <td>216</td>\n",
              "      <td>0100</td>\n",
              "      <td>4.530</td>\n",
              "      <td>14.263</td>\n",
              "    </tr>\n",
              "    <tr>\n",
              "      <th>19</th>\n",
              "      <td>228</td>\n",
              "      <td>0100</td>\n",
              "      <td>4.530</td>\n",
              "      <td>14.071</td>\n",
              "    </tr>\n",
              "    <tr>\n",
              "      <th>20</th>\n",
              "      <td>0</td>\n",
              "      <td>0129</td>\n",
              "      <td>7.122</td>\n",
              "      <td>-13.860</td>\n",
              "    </tr>\n",
              "    <tr>\n",
              "      <th>21</th>\n",
              "      <td>12</td>\n",
              "      <td>0129</td>\n",
              "      <td>6.853</td>\n",
              "      <td>-13.591</td>\n",
              "    </tr>\n",
              "    <tr>\n",
              "      <th>22</th>\n",
              "      <td>24</td>\n",
              "      <td>0129</td>\n",
              "      <td>6.584</td>\n",
              "      <td>-13.341</td>\n",
              "    </tr>\n",
              "    <tr>\n",
              "      <th>23</th>\n",
              "      <td>36</td>\n",
              "      <td>0129</td>\n",
              "      <td>6.200</td>\n",
              "      <td>-13.341</td>\n",
              "    </tr>\n",
              "    <tr>\n",
              "      <th>24</th>\n",
              "      <td>48</td>\n",
              "      <td>0129</td>\n",
              "      <td>5.836</td>\n",
              "      <td>-13.341</td>\n",
              "    </tr>\n",
              "    <tr>\n",
              "      <th>25</th>\n",
              "      <td>60</td>\n",
              "      <td>0129</td>\n",
              "      <td>5.452</td>\n",
              "      <td>-13.341</td>\n",
              "    </tr>\n",
              "    <tr>\n",
              "      <th>26</th>\n",
              "      <td>72</td>\n",
              "      <td>0129</td>\n",
              "      <td>5.068</td>\n",
              "      <td>-13.341</td>\n",
              "    </tr>\n",
              "    <tr>\n",
              "      <th>27</th>\n",
              "      <td>84</td>\n",
              "      <td>0129</td>\n",
              "      <td>4.761</td>\n",
              "      <td>-13.245</td>\n",
              "    </tr>\n",
              "    <tr>\n",
              "      <th>28</th>\n",
              "      <td>96</td>\n",
              "      <td>0129</td>\n",
              "      <td>4.530</td>\n",
              "      <td>-13.245</td>\n",
              "    </tr>\n",
              "    <tr>\n",
              "      <th>29</th>\n",
              "      <td>108</td>\n",
              "      <td>0129</td>\n",
              "      <td>4.242</td>\n",
              "      <td>-13.149</td>\n",
              "    </tr>\n",
              "    <tr>\n",
              "      <th>30</th>\n",
              "      <td>120</td>\n",
              "      <td>0129</td>\n",
              "      <td>3.935</td>\n",
              "      <td>-13.072</td>\n",
              "    </tr>\n",
              "    <tr>\n",
              "      <th>31</th>\n",
              "      <td>132</td>\n",
              "      <td>0129</td>\n",
              "      <td>3.628</td>\n",
              "      <td>-13.072</td>\n",
              "    </tr>\n",
              "    <tr>\n",
              "      <th>32</th>\n",
              "      <td>144</td>\n",
              "      <td>0129</td>\n",
              "      <td>3.321</td>\n",
              "      <td>-13.072</td>\n",
              "    </tr>\n",
              "    <tr>\n",
              "      <th>33</th>\n",
              "      <td>156</td>\n",
              "      <td>0129</td>\n",
              "      <td>3.014</td>\n",
              "      <td>-13.072</td>\n",
              "    </tr>\n",
              "    <tr>\n",
              "      <th>34</th>\n",
              "      <td>168</td>\n",
              "      <td>0129</td>\n",
              "      <td>2.668</td>\n",
              "      <td>-13.111</td>\n",
              "    </tr>\n",
              "    <tr>\n",
              "      <th>35</th>\n",
              "      <td>180</td>\n",
              "      <td>0129</td>\n",
              "      <td>2.342</td>\n",
              "      <td>-13.149</td>\n",
              "    </tr>\n",
              "    <tr>\n",
              "      <th>36</th>\n",
              "      <td>192</td>\n",
              "      <td>0129</td>\n",
              "      <td>1.996</td>\n",
              "      <td>-13.245</td>\n",
              "    </tr>\n",
              "    <tr>\n",
              "      <th>37</th>\n",
              "      <td>204</td>\n",
              "      <td>0129</td>\n",
              "      <td>1.766</td>\n",
              "      <td>-13.245</td>\n",
              "    </tr>\n",
              "    <tr>\n",
              "      <th>38</th>\n",
              "      <td>216</td>\n",
              "      <td>0129</td>\n",
              "      <td>1.536</td>\n",
              "      <td>-13.245</td>\n",
              "    </tr>\n",
              "    <tr>\n",
              "      <th>39</th>\n",
              "      <td>228</td>\n",
              "      <td>0129</td>\n",
              "      <td>1.229</td>\n",
              "      <td>-13.341</td>\n",
              "    </tr>\n",
              "  </tbody>\n",
              "</table>\n",
              "</div>\n",
              "      <button class=\"colab-df-convert\" onclick=\"convertToInteractive('df-e7b91364-5a67-4c52-b044-246c1eeb315c')\"\n",
              "              title=\"Convert this dataframe to an interactive table.\"\n",
              "              style=\"display:none;\">\n",
              "        \n",
              "  <svg xmlns=\"http://www.w3.org/2000/svg\" height=\"24px\"viewBox=\"0 0 24 24\"\n",
              "       width=\"24px\">\n",
              "    <path d=\"M0 0h24v24H0V0z\" fill=\"none\"/>\n",
              "    <path d=\"M18.56 5.44l.94 2.06.94-2.06 2.06-.94-2.06-.94-.94-2.06-.94 2.06-2.06.94zm-11 1L8.5 8.5l.94-2.06 2.06-.94-2.06-.94L8.5 2.5l-.94 2.06-2.06.94zm10 10l.94 2.06.94-2.06 2.06-.94-2.06-.94-.94-2.06-.94 2.06-2.06.94z\"/><path d=\"M17.41 7.96l-1.37-1.37c-.4-.4-.92-.59-1.43-.59-.52 0-1.04.2-1.43.59L10.3 9.45l-7.72 7.72c-.78.78-.78 2.05 0 2.83L4 21.41c.39.39.9.59 1.41.59.51 0 1.02-.2 1.41-.59l7.78-7.78 2.81-2.81c.8-.78.8-2.07 0-2.86zM5.41 20L4 18.59l7.72-7.72 1.47 1.35L5.41 20z\"/>\n",
              "  </svg>\n",
              "      </button>\n",
              "      \n",
              "  <style>\n",
              "    .colab-df-container {\n",
              "      display:flex;\n",
              "      flex-wrap:wrap;\n",
              "      gap: 12px;\n",
              "    }\n",
              "\n",
              "    .colab-df-convert {\n",
              "      background-color: #E8F0FE;\n",
              "      border: none;\n",
              "      border-radius: 50%;\n",
              "      cursor: pointer;\n",
              "      display: none;\n",
              "      fill: #1967D2;\n",
              "      height: 32px;\n",
              "      padding: 0 0 0 0;\n",
              "      width: 32px;\n",
              "    }\n",
              "\n",
              "    .colab-df-convert:hover {\n",
              "      background-color: #E2EBFA;\n",
              "      box-shadow: 0px 1px 2px rgba(60, 64, 67, 0.3), 0px 1px 3px 1px rgba(60, 64, 67, 0.15);\n",
              "      fill: #174EA6;\n",
              "    }\n",
              "\n",
              "    [theme=dark] .colab-df-convert {\n",
              "      background-color: #3B4455;\n",
              "      fill: #D2E3FC;\n",
              "    }\n",
              "\n",
              "    [theme=dark] .colab-df-convert:hover {\n",
              "      background-color: #434B5C;\n",
              "      box-shadow: 0px 1px 3px 1px rgba(0, 0, 0, 0.15);\n",
              "      filter: drop-shadow(0px 1px 2px rgba(0, 0, 0, 0.3));\n",
              "      fill: #FFFFFF;\n",
              "    }\n",
              "  </style>\n",
              "\n",
              "      <script>\n",
              "        const buttonEl =\n",
              "          document.querySelector('#df-e7b91364-5a67-4c52-b044-246c1eeb315c button.colab-df-convert');\n",
              "        buttonEl.style.display =\n",
              "          google.colab.kernel.accessAllowed ? 'block' : 'none';\n",
              "\n",
              "        async function convertToInteractive(key) {\n",
              "          const element = document.querySelector('#df-e7b91364-5a67-4c52-b044-246c1eeb315c');\n",
              "          const dataTable =\n",
              "            await google.colab.kernel.invokeFunction('convertToInteractive',\n",
              "                                                     [key], {});\n",
              "          if (!dataTable) return;\n",
              "\n",
              "          const docLinkHtml = 'Like what you see? Visit the ' +\n",
              "            '<a target=\"_blank\" href=https://colab.research.google.com/notebooks/data_table.ipynb>data table notebook</a>'\n",
              "            + ' to learn more about interactive tables.';\n",
              "          element.innerHTML = '';\n",
              "          dataTable['output_type'] = 'display_data';\n",
              "          await google.colab.output.renderOutput(dataTable, element);\n",
              "          const docLink = document.createElement('div');\n",
              "          docLink.innerHTML = docLinkHtml;\n",
              "          element.appendChild(docLink);\n",
              "        }\n",
              "      </script>\n",
              "    </div>\n",
              "  </div>\n",
              "  "
            ]
          },
          "metadata": {},
          "execution_count": 9
        }
      ]
    },
    {
      "cell_type": "markdown",
      "source": [
        "El dataset contiene en total 1772 trayectorias\n",
        "\n",
        "Las posiciones son de una imagen en un plano con coordenadas (x,y), con el origen en medio de la imagen, por esto se tienen coordenas positivas y negativas. \n",
        "\n",
        "Coordenadas  -28.579 < x < 28.518, -21.754 < y < 21.714\n",
        "\n",
        "Con lo que se obtiene un área de estudio de 2481.89 metros cuadrados"
      ],
      "metadata": {
        "id": "5GIkp2P8KW9F"
      }
    },
    {
      "cell_type": "markdown",
      "source": [
        "![image.png](data:image/png;base64,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)"
      ],
      "metadata": {
        "id": "Ec8AWEKwKX_U"
      }
    },
    {
      "cell_type": "code",
      "source": [
        "df.describe(include='all')"
      ],
      "metadata": {
        "colab": {
          "base_uri": "https://localhost:8080/",
          "height": 394
        },
        "id": "IOV0DAjS95eb",
        "outputId": "e7956cd2-8c1d-42ee-cb51-fc02138e0d53"
      },
      "execution_count": null,
      "outputs": [
        {
          "output_type": "execute_result",
          "data": {
            "text/plain": [
              "                time     id             x             y\n",
              "count   35440.000000  35440  35440.000000  35440.000000\n",
              "unique           NaN   1772           NaN           NaN\n",
              "top              NaN   0100           NaN           NaN\n",
              "freq             NaN     20           NaN           NaN\n",
              "mean     7143.284424    NaN     -1.710165      2.422755\n",
              "std      4040.345357    NaN     14.818010     12.437575\n",
              "min         0.000000    NaN    -28.579000    -21.754000\n",
              "25%      3552.000000    NaN    -14.005250     -9.175000\n",
              "50%      7332.000000    NaN     -3.321000      2.380000\n",
              "75%     10536.000000    NaN      9.291000     15.683000\n",
              "max     14532.000000    NaN     28.518000     21.714000"
            ],
            "text/html": [
              "\n",
              "  <div id=\"df-dda36694-df93-497b-aeaa-a389527ff14b\">\n",
              "    <div class=\"colab-df-container\">\n",
              "      <div>\n",
              "<style scoped>\n",
              "    .dataframe tbody tr th:only-of-type {\n",
              "        vertical-align: middle;\n",
              "    }\n",
              "\n",
              "    .dataframe tbody tr th {\n",
              "        vertical-align: top;\n",
              "    }\n",
              "\n",
              "    .dataframe thead th {\n",
              "        text-align: right;\n",
              "    }\n",
              "</style>\n",
              "<table border=\"1\" class=\"dataframe\">\n",
              "  <thead>\n",
              "    <tr style=\"text-align: right;\">\n",
              "      <th></th>\n",
              "      <th>time</th>\n",
              "      <th>id</th>\n",
              "      <th>x</th>\n",
              "      <th>y</th>\n",
              "    </tr>\n",
              "  </thead>\n",
              "  <tbody>\n",
              "    <tr>\n",
              "      <th>count</th>\n",
              "      <td>35440.000000</td>\n",
              "      <td>35440</td>\n",
              "      <td>35440.000000</td>\n",
              "      <td>35440.000000</td>\n",
              "    </tr>\n",
              "    <tr>\n",
              "      <th>unique</th>\n",
              "      <td>NaN</td>\n",
              "      <td>1772</td>\n",
              "      <td>NaN</td>\n",
              "      <td>NaN</td>\n",
              "    </tr>\n",
              "    <tr>\n",
              "      <th>top</th>\n",
              "      <td>NaN</td>\n",
              "      <td>0100</td>\n",
              "      <td>NaN</td>\n",
              "      <td>NaN</td>\n",
              "    </tr>\n",
              "    <tr>\n",
              "      <th>freq</th>\n",
              "      <td>NaN</td>\n",
              "      <td>20</td>\n",
              "      <td>NaN</td>\n",
              "      <td>NaN</td>\n",
              "    </tr>\n",
              "    <tr>\n",
              "      <th>mean</th>\n",
              "      <td>7143.284424</td>\n",
              "      <td>NaN</td>\n",
              "      <td>-1.710165</td>\n",
              "      <td>2.422755</td>\n",
              "    </tr>\n",
              "    <tr>\n",
              "      <th>std</th>\n",
              "      <td>4040.345357</td>\n",
              "      <td>NaN</td>\n",
              "      <td>14.818010</td>\n",
              "      <td>12.437575</td>\n",
              "    </tr>\n",
              "    <tr>\n",
              "      <th>min</th>\n",
              "      <td>0.000000</td>\n",
              "      <td>NaN</td>\n",
              "      <td>-28.579000</td>\n",
              "      <td>-21.754000</td>\n",
              "    </tr>\n",
              "    <tr>\n",
              "      <th>25%</th>\n",
              "      <td>3552.000000</td>\n",
              "      <td>NaN</td>\n",
              "      <td>-14.005250</td>\n",
              "      <td>-9.175000</td>\n",
              "    </tr>\n",
              "    <tr>\n",
              "      <th>50%</th>\n",
              "      <td>7332.000000</td>\n",
              "      <td>NaN</td>\n",
              "      <td>-3.321000</td>\n",
              "      <td>2.380000</td>\n",
              "    </tr>\n",
              "    <tr>\n",
              "      <th>75%</th>\n",
              "      <td>10536.000000</td>\n",
              "      <td>NaN</td>\n",
              "      <td>9.291000</td>\n",
              "      <td>15.683000</td>\n",
              "    </tr>\n",
              "    <tr>\n",
              "      <th>max</th>\n",
              "      <td>14532.000000</td>\n",
              "      <td>NaN</td>\n",
              "      <td>28.518000</td>\n",
              "      <td>21.714000</td>\n",
              "    </tr>\n",
              "  </tbody>\n",
              "</table>\n",
              "</div>\n",
              "      <button class=\"colab-df-convert\" onclick=\"convertToInteractive('df-dda36694-df93-497b-aeaa-a389527ff14b')\"\n",
              "              title=\"Convert this dataframe to an interactive table.\"\n",
              "              style=\"display:none;\">\n",
              "        \n",
              "  <svg xmlns=\"http://www.w3.org/2000/svg\" height=\"24px\"viewBox=\"0 0 24 24\"\n",
              "       width=\"24px\">\n",
              "    <path d=\"M0 0h24v24H0V0z\" fill=\"none\"/>\n",
              "    <path d=\"M18.56 5.44l.94 2.06.94-2.06 2.06-.94-2.06-.94-.94-2.06-.94 2.06-2.06.94zm-11 1L8.5 8.5l.94-2.06 2.06-.94-2.06-.94L8.5 2.5l-.94 2.06-2.06.94zm10 10l.94 2.06.94-2.06 2.06-.94-2.06-.94-.94-2.06-.94 2.06-2.06.94z\"/><path d=\"M17.41 7.96l-1.37-1.37c-.4-.4-.92-.59-1.43-.59-.52 0-1.04.2-1.43.59L10.3 9.45l-7.72 7.72c-.78.78-.78 2.05 0 2.83L4 21.41c.39.39.9.59 1.41.59.51 0 1.02-.2 1.41-.59l7.78-7.78 2.81-2.81c.8-.78.8-2.07 0-2.86zM5.41 20L4 18.59l7.72-7.72 1.47 1.35L5.41 20z\"/>\n",
              "  </svg>\n",
              "      </button>\n",
              "      \n",
              "  <style>\n",
              "    .colab-df-container {\n",
              "      display:flex;\n",
              "      flex-wrap:wrap;\n",
              "      gap: 12px;\n",
              "    }\n",
              "\n",
              "    .colab-df-convert {\n",
              "      background-color: #E8F0FE;\n",
              "      border: none;\n",
              "      border-radius: 50%;\n",
              "      cursor: pointer;\n",
              "      display: none;\n",
              "      fill: #1967D2;\n",
              "      height: 32px;\n",
              "      padding: 0 0 0 0;\n",
              "      width: 32px;\n",
              "    }\n",
              "\n",
              "    .colab-df-convert:hover {\n",
              "      background-color: #E2EBFA;\n",
              "      box-shadow: 0px 1px 2px rgba(60, 64, 67, 0.3), 0px 1px 3px 1px rgba(60, 64, 67, 0.15);\n",
              "      fill: #174EA6;\n",
              "    }\n",
              "\n",
              "    [theme=dark] .colab-df-convert {\n",
              "      background-color: #3B4455;\n",
              "      fill: #D2E3FC;\n",
              "    }\n",
              "\n",
              "    [theme=dark] .colab-df-convert:hover {\n",
              "      background-color: #434B5C;\n",
              "      box-shadow: 0px 1px 3px 1px rgba(0, 0, 0, 0.15);\n",
              "      filter: drop-shadow(0px 1px 2px rgba(0, 0, 0, 0.3));\n",
              "      fill: #FFFFFF;\n",
              "    }\n",
              "  </style>\n",
              "\n",
              "      <script>\n",
              "        const buttonEl =\n",
              "          document.querySelector('#df-dda36694-df93-497b-aeaa-a389527ff14b button.colab-df-convert');\n",
              "        buttonEl.style.display =\n",
              "          google.colab.kernel.accessAllowed ? 'block' : 'none';\n",
              "\n",
              "        async function convertToInteractive(key) {\n",
              "          const element = document.querySelector('#df-dda36694-df93-497b-aeaa-a389527ff14b');\n",
              "          const dataTable =\n",
              "            await google.colab.kernel.invokeFunction('convertToInteractive',\n",
              "                                                     [key], {});\n",
              "          if (!dataTable) return;\n",
              "\n",
              "          const docLinkHtml = 'Like what you see? Visit the ' +\n",
              "            '<a target=\"_blank\" href=https://colab.research.google.com/notebooks/data_table.ipynb>data table notebook</a>'\n",
              "            + ' to learn more about interactive tables.';\n",
              "          element.innerHTML = '';\n",
              "          dataTable['output_type'] = 'display_data';\n",
              "          await google.colab.output.renderOutput(dataTable, element);\n",
              "          const docLink = document.createElement('div');\n",
              "          docLink.innerHTML = docLinkHtml;\n",
              "          element.appendChild(docLink);\n",
              "        }\n",
              "      </script>\n",
              "    </div>\n",
              "  </div>\n",
              "  "
            ]
          },
          "metadata": {},
          "execution_count": 10
        }
      ]
    },
    {
      "cell_type": "markdown",
      "source": [
        "Normalización de los datos de entrenamiento:"
      ],
      "metadata": {
        "id": "nellvzJ9KeOq"
      }
    },
    {
      "cell_type": "code",
      "source": [
        "from sklearn.preprocessing import MinMaxScaler\n",
        "\n",
        "id_column = df.id\n",
        "df.drop(columns=['time','id'], axis=1, inplace=True) #se quita la feature time del dataset\n",
        "\n",
        "#Normalizando datos de posición\n",
        "scaler = MinMaxScaler()\n",
        "df = pd.DataFrame(scaler.fit_transform(df), columns=df.columns) #se normalizan unicamente las feature x,y\n",
        "\n",
        "df['id'] = id_column\n",
        "\n",
        "import pickle as pkl\n",
        "with open('/content/drive/MyDrive/ProyectoSL2/data/models/LSTM/scaler.pkl', 'wb') as outfile: #se guarda el scaler para poder desnormalizar despues los datos\n",
        "  pkl.dump(scaler, outfile)"
      ],
      "metadata": {
        "id": "vmqgzRhSSAPu"
      },
      "execution_count": null,
      "outputs": []
    },
    {
      "cell_type": "markdown",
      "source": [
        "Training data normalizados:"
      ],
      "metadata": {
        "id": "KFMSLS4yKy3M"
      }
    },
    {
      "cell_type": "code",
      "source": [
        "df.head(5)"
      ],
      "metadata": {
        "colab": {
          "base_uri": "https://localhost:8080/",
          "height": 206
        },
        "id": "DI7B01Zbi0lM",
        "outputId": "9a3c8c75-d8df-498c-d688-c676d6876aa3"
      },
      "execution_count": null,
      "outputs": [
        {
          "output_type": "execute_result",
          "data": {
            "text/plain": [
              "          x         y    id\n",
              "0  0.530798  0.831232  0100\n",
              "1  0.536175  0.831232  0100\n",
              "2  0.541552  0.831232  0100\n",
              "3  0.546596  0.831232  0100\n",
              "4  0.551973  0.832106  0100"
            ],
            "text/html": [
              "\n",
              "  <div id=\"df-51d02efe-4898-43b2-acec-9e00ad581e94\">\n",
              "    <div class=\"colab-df-container\">\n",
              "      <div>\n",
              "<style scoped>\n",
              "    .dataframe tbody tr th:only-of-type {\n",
              "        vertical-align: middle;\n",
              "    }\n",
              "\n",
              "    .dataframe tbody tr th {\n",
              "        vertical-align: top;\n",
              "    }\n",
              "\n",
              "    .dataframe thead th {\n",
              "        text-align: right;\n",
              "    }\n",
              "</style>\n",
              "<table border=\"1\" class=\"dataframe\">\n",
              "  <thead>\n",
              "    <tr style=\"text-align: right;\">\n",
              "      <th></th>\n",
              "      <th>x</th>\n",
              "      <th>y</th>\n",
              "      <th>id</th>\n",
              "    </tr>\n",
              "  </thead>\n",
              "  <tbody>\n",
              "    <tr>\n",
              "      <th>0</th>\n",
              "      <td>0.530798</td>\n",
              "      <td>0.831232</td>\n",
              "      <td>0100</td>\n",
              "    </tr>\n",
              "    <tr>\n",
              "      <th>1</th>\n",
              "      <td>0.536175</td>\n",
              "      <td>0.831232</td>\n",
              "      <td>0100</td>\n",
              "    </tr>\n",
              "    <tr>\n",
              "      <th>2</th>\n",
              "      <td>0.541552</td>\n",
              "      <td>0.831232</td>\n",
              "      <td>0100</td>\n",
              "    </tr>\n",
              "    <tr>\n",
              "      <th>3</th>\n",
              "      <td>0.546596</td>\n",
              "      <td>0.831232</td>\n",
              "      <td>0100</td>\n",
              "    </tr>\n",
              "    <tr>\n",
              "      <th>4</th>\n",
              "      <td>0.551973</td>\n",
              "      <td>0.832106</td>\n",
              "      <td>0100</td>\n",
              "    </tr>\n",
              "  </tbody>\n",
              "</table>\n",
              "</div>\n",
              "      <button class=\"colab-df-convert\" onclick=\"convertToInteractive('df-51d02efe-4898-43b2-acec-9e00ad581e94')\"\n",
              "              title=\"Convert this dataframe to an interactive table.\"\n",
              "              style=\"display:none;\">\n",
              "        \n",
              "  <svg xmlns=\"http://www.w3.org/2000/svg\" height=\"24px\"viewBox=\"0 0 24 24\"\n",
              "       width=\"24px\">\n",
              "    <path d=\"M0 0h24v24H0V0z\" fill=\"none\"/>\n",
              "    <path d=\"M18.56 5.44l.94 2.06.94-2.06 2.06-.94-2.06-.94-.94-2.06-.94 2.06-2.06.94zm-11 1L8.5 8.5l.94-2.06 2.06-.94-2.06-.94L8.5 2.5l-.94 2.06-2.06.94zm10 10l.94 2.06.94-2.06 2.06-.94-2.06-.94-.94-2.06-.94 2.06-2.06.94z\"/><path d=\"M17.41 7.96l-1.37-1.37c-.4-.4-.92-.59-1.43-.59-.52 0-1.04.2-1.43.59L10.3 9.45l-7.72 7.72c-.78.78-.78 2.05 0 2.83L4 21.41c.39.39.9.59 1.41.59.51 0 1.02-.2 1.41-.59l7.78-7.78 2.81-2.81c.8-.78.8-2.07 0-2.86zM5.41 20L4 18.59l7.72-7.72 1.47 1.35L5.41 20z\"/>\n",
              "  </svg>\n",
              "      </button>\n",
              "      \n",
              "  <style>\n",
              "    .colab-df-container {\n",
              "      display:flex;\n",
              "      flex-wrap:wrap;\n",
              "      gap: 12px;\n",
              "    }\n",
              "\n",
              "    .colab-df-convert {\n",
              "      background-color: #E8F0FE;\n",
              "      border: none;\n",
              "      border-radius: 50%;\n",
              "      cursor: pointer;\n",
              "      display: none;\n",
              "      fill: #1967D2;\n",
              "      height: 32px;\n",
              "      padding: 0 0 0 0;\n",
              "      width: 32px;\n",
              "    }\n",
              "\n",
              "    .colab-df-convert:hover {\n",
              "      background-color: #E2EBFA;\n",
              "      box-shadow: 0px 1px 2px rgba(60, 64, 67, 0.3), 0px 1px 3px 1px rgba(60, 64, 67, 0.15);\n",
              "      fill: #174EA6;\n",
              "    }\n",
              "\n",
              "    [theme=dark] .colab-df-convert {\n",
              "      background-color: #3B4455;\n",
              "      fill: #D2E3FC;\n",
              "    }\n",
              "\n",
              "    [theme=dark] .colab-df-convert:hover {\n",
              "      background-color: #434B5C;\n",
              "      box-shadow: 0px 1px 3px 1px rgba(0, 0, 0, 0.15);\n",
              "      filter: drop-shadow(0px 1px 2px rgba(0, 0, 0, 0.3));\n",
              "      fill: #FFFFFF;\n",
              "    }\n",
              "  </style>\n",
              "\n",
              "      <script>\n",
              "        const buttonEl =\n",
              "          document.querySelector('#df-51d02efe-4898-43b2-acec-9e00ad581e94 button.colab-df-convert');\n",
              "        buttonEl.style.display =\n",
              "          google.colab.kernel.accessAllowed ? 'block' : 'none';\n",
              "\n",
              "        async function convertToInteractive(key) {\n",
              "          const element = document.querySelector('#df-51d02efe-4898-43b2-acec-9e00ad581e94');\n",
              "          const dataTable =\n",
              "            await google.colab.kernel.invokeFunction('convertToInteractive',\n",
              "                                                     [key], {});\n",
              "          if (!dataTable) return;\n",
              "\n",
              "          const docLinkHtml = 'Like what you see? Visit the ' +\n",
              "            '<a target=\"_blank\" href=https://colab.research.google.com/notebooks/data_table.ipynb>data table notebook</a>'\n",
              "            + ' to learn more about interactive tables.';\n",
              "          element.innerHTML = '';\n",
              "          dataTable['output_type'] = 'display_data';\n",
              "          await google.colab.output.renderOutput(dataTable, element);\n",
              "          const docLink = document.createElement('div');\n",
              "          docLink.innerHTML = docLinkHtml;\n",
              "          element.appendChild(docLink);\n",
              "        }\n",
              "      </script>\n",
              "    </div>\n",
              "  </div>\n",
              "  "
            ]
          },
          "metadata": {},
          "execution_count": 12
        }
      ]
    },
    {
      "cell_type": "code",
      "source": [
        "#división de features x, y para utilizarlos en el modelo de entrada multiple\n",
        "X,y = sequences_to_supervised(df,n_steps_in,n_steps_out, n_features)\n"
      ],
      "metadata": {
        "id": "Yfflo-wVSBZF"
      },
      "execution_count": null,
      "outputs": []
    },
    {
      "cell_type": "code",
      "source": [
        "print(X.shape) #1772 muestras, de 8 pasos de entrada, con 2 caracteristicas (posicion coordenadas x,y)\n",
        "print(y.shape) #1772 muestras, de 12 pasos de salida, con 2 caracteristicas (posicion coordenadas x,y)"
      ],
      "metadata": {
        "colab": {
          "base_uri": "https://localhost:8080/"
        },
        "id": "zHLP3jxlSALD",
        "outputId": "f551d8ab-4301-485f-b855-a366a7284663"
      },
      "execution_count": null,
      "outputs": [
        {
          "output_type": "stream",
          "name": "stdout",
          "text": [
            "(1772, 8, 2)\n",
            "(1772, 12, 2)\n"
          ]
        }
      ]
    },
    {
      "cell_type": "code",
      "source": [
        "print(\"X:\",X.shape[0],\"muestras, de\",X.shape[1],\"pasos de entrada, con\",X.shape[2],\"caracteristicas que corresponden a las coordenadas de la posición\")\n",
        "print(\"y:\",y.shape[0],\"muestras, de\",y.shape[1],\"pasos de salida, con\",y.shape[2],\"caracteristicas que corresponden a las coordenadas de la posición\")"
      ],
      "metadata": {
        "id": "iSpifTtXLENh",
        "colab": {
          "base_uri": "https://localhost:8080/"
        },
        "outputId": "2ce1d69b-2046-4dfa-bb69-377af3a226c4"
      },
      "execution_count": null,
      "outputs": [
        {
          "output_type": "stream",
          "name": "stdout",
          "text": [
            "X: 1772 muestras, de 8 pasos de entrada, con 2 caracteristicas que corresponden a las coordenadas de la posición\n",
            "y: 1772 muestras, de 12 pasos de salida, con 2 caracteristicas que corresponden a las coordenadas de la posición\n"
          ]
        }
      ]
    },
    {
      "cell_type": "code",
      "source": [
        "#se redimensionan los datos para poder procesarlos con MLP\n",
        "# flatten input\n",
        "#n_input = X.shape[1] * X.shape[2] #dimension input \n",
        "#X_flatten = X.reshape((X.shape[0], n_input)) #805,16\n",
        "\n",
        "# flatten conditional y\n",
        "#n_input = y.shape[1] * y.shape[2] #dimension output\n",
        "#y_flatten = y.reshape((y.shape[0],n_input)) #805,24\n"
      ],
      "metadata": {
        "id": "7xwDI90GhJWz"
      },
      "execution_count": null,
      "outputs": []
    },
    {
      "cell_type": "code",
      "source": [
        "#print(X_flatten[0]) \n",
        "#print(y_flatten[0])"
      ],
      "metadata": {
        "id": "NZhlSsAMhWfn"
      },
      "execution_count": null,
      "outputs": []
    },
    {
      "cell_type": "markdown",
      "source": [
        "####Creación modelo LSTM"
      ],
      "metadata": {
        "id": "fVvCBsAjLRBD"
      }
    },
    {
      "cell_type": "markdown",
      "source": [
        "#####Creación de la estructura:"
      ],
      "metadata": {
        "id": "fz5G84l4LSLQ"
      }
    },
    {
      "cell_type": "code",
      "source": [
        "n_timesteps = 8\n",
        "n_features = 2\n",
        "n_outputs =12\n",
        "\n",
        "input_layer=tf.keras.Input(shape=(n_timesteps, n_features))\n",
        "\n",
        "encoder = tf.keras.layers.LSTM(512,return_sequences=False)(input_layer)  #ref libro 20.8\n",
        "\n",
        "#encoder = tf.keras.layers.LSTM(128,return_sequences=True)(input_layer)  #ref libro 20.8\n",
        "#encoder = tf.keras.layers.LSTM(128,return_sequences=False)(encoder)\n",
        "\n",
        "latent_vector = tf.keras.layers.RepeatVector(n_outputs)(encoder)\n",
        "decoder = tf.keras.layers.LSTM(512,return_sequences=True)(latent_vector)\n",
        "decoder = tf.keras.layers.TimeDistributed(tf.keras.layers.Dense(2, activation='linear'))(decoder)\n",
        "\n",
        "model = tf.keras.Model(input_layer, decoder)\n",
        "\n",
        "model.compile(optimizer=tf.keras.optimizers.Adam(learning_rate=0.001, epsilon=1e-08, decay=0.0), loss='mse') #problema de regresion\n"
      ],
      "metadata": {
        "id": "ZglfiMCCi1RF"
      },
      "execution_count": null,
      "outputs": []
    },
    {
      "cell_type": "code",
      "source": [
        "model.summary()"
      ],
      "metadata": {
        "colab": {
          "base_uri": "https://localhost:8080/"
        },
        "id": "QcfhnmsuhJtb",
        "outputId": "d40ddc4e-c219-4d52-fffa-2a09b98f0e13"
      },
      "execution_count": null,
      "outputs": [
        {
          "output_type": "stream",
          "name": "stdout",
          "text": [
            "Model: \"model\"\n",
            "_________________________________________________________________\n",
            " Layer (type)                Output Shape              Param #   \n",
            "=================================================================\n",
            " input_1 (InputLayer)        [(None, 8, 2)]            0         \n",
            "                                                                 \n",
            " lstm (LSTM)                 (None, 512)               1054720   \n",
            "                                                                 \n",
            " repeat_vector (RepeatVector  (None, 12, 512)          0         \n",
            " )                                                               \n",
            "                                                                 \n",
            " lstm_1 (LSTM)               (None, 12, 512)           2099200   \n",
            "                                                                 \n",
            " time_distributed (TimeDistr  (None, 12, 2)            1026      \n",
            " ibuted)                                                         \n",
            "                                                                 \n",
            "=================================================================\n",
            "Total params: 3,154,946\n",
            "Trainable params: 3,154,946\n",
            "Non-trainable params: 0\n",
            "_________________________________________________________________\n"
          ]
        }
      ]
    },
    {
      "cell_type": "code",
      "source": [
        "tf.keras.utils.plot_model(model)"
      ],
      "metadata": {
        "colab": {
          "base_uri": "https://localhost:8080/",
          "height": 466
        },
        "id": "hQa8ePoVko7E",
        "outputId": "d02e0ed1-6372-4dda-f761-ad181383f20d"
      },
      "execution_count": null,
      "outputs": [
        {
          "output_type": "execute_result",
          "data": {
            "image/png": "[encoded data removed]",
            "text/plain": [
              "<IPython.core.display.Image object>"
            ]
          },
          "metadata": {},
          "execution_count": 20
        }
      ]
    },
    {
      "cell_type": "code",
      "source": [
        "#callback para monitorear el costo\n",
        "wandb_callback = WandbCallback(monitor='val_loss', mode='min', log_gradients=False)"
      ],
      "metadata": {
        "colab": {
          "base_uri": "https://localhost:8080/"
        },
        "id": "E2y3-WZUmcVY",
        "outputId": "bd2ee443-cdb8-41ba-eff2-28096452955d"
      },
      "execution_count": null,
      "outputs": [
        {
          "output_type": "stream",
          "name": "stderr",
          "text": [
            "\u001b[34m\u001b[1mwandb\u001b[0m: \u001b[33mWARNING\u001b[0m The save_model argument by default saves the model in the HDF5 format that cannot save custom objects like subclassed models and custom layers. This behavior will be deprecated in a future release in favor of the SavedModel format. Meanwhile, the HDF5 model is saved as W&B files and the SavedModel as W&B Artifacts.\n"
          ]
        }
      ]
    },
    {
      "cell_type": "markdown",
      "source": [
        "#####Entrenamiento del modelo:"
      ],
      "metadata": {
        "id": "dIOOwr35MR6w"
      }
    },
    {
      "cell_type": "code",
      "source": [
        "model.fit(X,y, epochs=400, validation_split=0.2, callbacks=[wandb_callback], batch_size=32)"
      ],
      "metadata": {
        "colab": {
          "base_uri": "https://localhost:8080/"
        },
        "id": "22E5VoA0iP3-",
        "outputId": "349f1830-1426-430b-c6ee-f008f556493d"
      },
      "execution_count": null,
      "outputs": [
        {
          "output_type": "stream",
          "name": "stderr",
          "text": [
            "WARNING:tensorflow:From /usr/local/lib/python3.7/dist-packages/tensorflow/python/ops/math_ops.py:3836: tensor_shape_from_node_def_name (from tensorflow.python.framework.graph_util_impl) is deprecated and will be removed in a future version.\n",
            "Instructions for updating:\n",
            "Use `tf.compat.v1.graph_util.tensor_shape_from_node_def_name`\n"
          ]
        },
        {
          "output_type": "stream",
          "name": "stdout",
          "text": [
            "Epoch 1/400\n",
            "45/45 [==============================] - ETA: 0s - loss: 0.0233"
          ]
        },
        {
          "output_type": "stream",
          "name": "stderr",
          "text": [
            "WARNING:absl:Found untraced functions such as lstm_cell_layer_call_fn, lstm_cell_layer_call_and_return_conditional_losses, lstm_cell_1_layer_call_fn, lstm_cell_1_layer_call_and_return_conditional_losses while saving (showing 4 of 4). These functions will not be directly callable after loading.\n",
            "WARNING:absl:<keras.layers.recurrent.LSTMCell object at 0x7fa9adc51a10> has the same name 'LSTMCell' as a built-in Keras object. Consider renaming <class 'keras.layers.recurrent.LSTMCell'> to avoid naming conflicts when loading with `tf.keras.models.load_model`. If renaming is not possible, pass the object in the `custom_objects` parameter of the load function.\n",
            "WARNING:absl:<keras.layers.recurrent.LSTMCell object at 0x7fa9ad990e50> has the same name 'LSTMCell' as a built-in Keras object. Consider renaming <class 'keras.layers.recurrent.LSTMCell'> to avoid naming conflicts when loading with `tf.keras.models.load_model`. If renaming is not possible, pass the object in the `custom_objects` parameter of the load function.\n",
            "\u001b[34m\u001b[1mwandb\u001b[0m: Adding directory to artifact (/content/wandb/run-20220919_165344-1kvrn8lk/files/model-best)... Done. 0.3s\n"
          ]
        },
        {
          "output_type": "stream",
          "name": "stdout",
          "text": [
            "\b\b\b\b\b\b\b\b\b\b\b\b\b\b\b\b\b\b\b\b\b\b\b\b\b\b\b\b\b\b\b\b\b\b\b\b\b\b\b\b\b\b\b\b\b\b\b\b\b\b\b\b\b\b\b\b\b\b\b\b\b\b\b\r45/45 [==============================] - 39s 766ms/step - loss: 0.0233 - val_loss: 0.0031\n",
            "Epoch 2/400\n",
            "45/45 [==============================] - ETA: 0s - loss: 0.0039"
          ]
        },
        {
          "output_type": "stream",
          "name": "stderr",
          "text": [
            "WARNING:absl:Found untraced functions such as lstm_cell_layer_call_fn, lstm_cell_layer_call_and_return_conditional_losses, lstm_cell_1_layer_call_fn, lstm_cell_1_layer_call_and_return_conditional_losses while saving (showing 4 of 4). These functions will not be directly callable after loading.\n",
            "WARNING:absl:<keras.layers.recurrent.LSTMCell object at 0x7fa9adc51a10> has the same name 'LSTMCell' as a built-in Keras object. Consider renaming <class 'keras.layers.recurrent.LSTMCell'> to avoid naming conflicts when loading with `tf.keras.models.load_model`. If renaming is not possible, pass the object in the `custom_objects` parameter of the load function.\n",
            "WARNING:absl:<keras.layers.recurrent.LSTMCell object at 0x7fa9ad990e50> has the same name 'LSTMCell' as a built-in Keras object. Consider renaming <class 'keras.layers.recurrent.LSTMCell'> to avoid naming conflicts when loading with `tf.keras.models.load_model`. If renaming is not possible, pass the object in the `custom_objects` parameter of the load function.\n",
            "\u001b[34m\u001b[1mwandb\u001b[0m: Adding directory to artifact (/content/wandb/run-20220919_165344-1kvrn8lk/files/model-best)... Done. 0.3s\n"
          ]
        },
        {
          "output_type": "stream",
          "name": "stdout",
          "text": [
            "\b\b\b\b\b\b\b\b\b\b\b\b\b\b\b\b\b\b\b\b\b\b\b\b\b\b\b\b\b\b\b\b\b\b\b\b\b\b\b\b\b\b\b\b\b\b\b\b\b\b\b\b\b\b\b\b\b\b\b\b\b\b\b\r45/45 [==============================] - 25s 565ms/step - loss: 0.0039 - val_loss: 0.0025\n",
            "Epoch 3/400\n",
            "45/45 [==============================] - 15s 343ms/step - loss: 0.0030 - val_loss: 0.0027\n",
            "Epoch 4/400\n",
            "45/45 [==============================] - ETA: 0s - loss: 0.0029"
          ]
        },
        {
          "output_type": "stream",
          "name": "stderr",
          "text": [
            "WARNING:absl:Found untraced functions such as lstm_cell_layer_call_fn, lstm_cell_layer_call_and_return_conditional_losses, lstm_cell_1_layer_call_fn, lstm_cell_1_layer_call_and_return_conditional_losses while saving (showing 4 of 4). These functions will not be directly callable after loading.\n",
            "WARNING:absl:<keras.layers.recurrent.LSTMCell object at 0x7fa9adc51a10> has the same name 'LSTMCell' as a built-in Keras object. Consider renaming <class 'keras.layers.recurrent.LSTMCell'> to avoid naming conflicts when loading with `tf.keras.models.load_model`. If renaming is not possible, pass the object in the `custom_objects` parameter of the load function.\n",
            "WARNING:absl:<keras.layers.recurrent.LSTMCell object at 0x7fa9ad990e50> has the same name 'LSTMCell' as a built-in Keras object. Consider renaming <class 'keras.layers.recurrent.LSTMCell'> to avoid naming conflicts when loading with `tf.keras.models.load_model`. If renaming is not possible, pass the object in the `custom_objects` parameter of the load function.\n",
            "\u001b[34m\u001b[1mwandb\u001b[0m: Adding directory to artifact (/content/wandb/run-20220919_165344-1kvrn8lk/files/model-best)... Done. 0.3s\n"
          ]
        },
        {
          "output_type": "stream",
          "name": "stdout",
          "text": [
            "\b\b\b\b\b\b\b\b\b\b\b\b\b\b\b\b\b\b\b\b\b\b\b\b\b\b\b\b\b\b\b\b\b\b\b\b\b\b\b\b\b\b\b\b\b\b\b\b\b\b\b\b\b\b\b\b\b\b\b\b\b\b\b\r45/45 [==============================] - 24s 545ms/step - loss: 0.0029 - val_loss: 0.0024\n",
            "Epoch 5/400\n",
            "45/45 [==============================] - 17s 369ms/step - loss: 0.0030 - val_loss: 0.0043\n",
            "Epoch 6/400\n",
            "45/45 [==============================] - 15s 333ms/step - loss: 0.0031 - val_loss: 0.0024\n",
            "Epoch 7/400\n",
            "45/45 [==============================] - ETA: 0s - loss: 0.0023"
          ]
        },
        {
          "output_type": "stream",
          "name": "stderr",
          "text": [
            "WARNING:absl:Found untraced functions such as lstm_cell_layer_call_fn, lstm_cell_layer_call_and_return_conditional_losses, lstm_cell_1_layer_call_fn, lstm_cell_1_layer_call_and_return_conditional_losses while saving (showing 4 of 4). These functions will not be directly callable after loading.\n",
            "WARNING:absl:<keras.layers.recurrent.LSTMCell object at 0x7fa9adc51a10> has the same name 'LSTMCell' as a built-in Keras object. Consider renaming <class 'keras.layers.recurrent.LSTMCell'> to avoid naming conflicts when loading with `tf.keras.models.load_model`. If renaming is not possible, pass the object in the `custom_objects` parameter of the load function.\n",
            "WARNING:absl:<keras.layers.recurrent.LSTMCell object at 0x7fa9ad990e50> has the same name 'LSTMCell' as a built-in Keras object. Consider renaming <class 'keras.layers.recurrent.LSTMCell'> to avoid naming conflicts when loading with `tf.keras.models.load_model`. If renaming is not possible, pass the object in the `custom_objects` parameter of the load function.\n",
            "\u001b[34m\u001b[1mwandb\u001b[0m: Adding directory to artifact (/content/wandb/run-20220919_165344-1kvrn8lk/files/model-best)... Done. 0.4s\n"
          ]
        },
        {
          "output_type": "stream",
          "name": "stdout",
          "text": [
            "\b\b\b\b\b\b\b\b\b\b\b\b\b\b\b\b\b\b\b\b\b\b\b\b\b\b\b\b\b\b\b\b\b\b\b\b\b\b\b\b\b\b\b\b\b\b\b\b\b\b\b\b\b\b\b\b\b\b\b\b\b\b\b\r45/45 [==============================] - 24s 537ms/step - loss: 0.0023 - val_loss: 0.0019\n",
            "Epoch 8/400\n",
            "45/45 [==============================] - ETA: 0s - loss: 0.0022"
          ]
        },
        {
          "output_type": "stream",
          "name": "stderr",
          "text": [
            "WARNING:absl:Found untraced functions such as lstm_cell_layer_call_fn, lstm_cell_layer_call_and_return_conditional_losses, lstm_cell_1_layer_call_fn, lstm_cell_1_layer_call_and_return_conditional_losses while saving (showing 4 of 4). These functions will not be directly callable after loading.\n",
            "WARNING:absl:<keras.layers.recurrent.LSTMCell object at 0x7fa9adc51a10> has the same name 'LSTMCell' as a built-in Keras object. Consider renaming <class 'keras.layers.recurrent.LSTMCell'> to avoid naming conflicts when loading with `tf.keras.models.load_model`. If renaming is not possible, pass the object in the `custom_objects` parameter of the load function.\n",
            "WARNING:absl:<keras.layers.recurrent.LSTMCell object at 0x7fa9ad990e50> has the same name 'LSTMCell' as a built-in Keras object. Consider renaming <class 'keras.layers.recurrent.LSTMCell'> to avoid naming conflicts when loading with `tf.keras.models.load_model`. If renaming is not possible, pass the object in the `custom_objects` parameter of the load function.\n",
            "\u001b[34m\u001b[1mwandb\u001b[0m: Adding directory to artifact (/content/wandb/run-20220919_165344-1kvrn8lk/files/model-best)... Done. 0.3s\n"
          ]
        },
        {
          "output_type": "stream",
          "name": "stdout",
          "text": [
            "\b\b\b\b\b\b\b\b\b\b\b\b\b\b\b\b\b\b\b\b\b\b\b\b\b\b\b\b\b\b\b\b\b\b\b\b\b\b\b\b\b\b\b\b\b\b\b\b\b\b\b\b\b\b\b\b\b\b\b\b\b\b\b\r45/45 [==============================] - 24s 544ms/step - loss: 0.0022 - val_loss: 0.0018\n",
            "Epoch 9/400\n",
            "45/45 [==============================] - 15s 341ms/step - loss: 0.0021 - val_loss: 0.0022\n",
            "Epoch 10/400\n",
            "45/45 [==============================] - ETA: 0s - loss: 0.0021"
          ]
        },
        {
          "output_type": "stream",
          "name": "stderr",
          "text": [
            "WARNING:absl:Found untraced functions such as lstm_cell_layer_call_fn, lstm_cell_layer_call_and_return_conditional_losses, lstm_cell_1_layer_call_fn, lstm_cell_1_layer_call_and_return_conditional_losses while saving (showing 4 of 4). These functions will not be directly callable after loading.\n",
            "WARNING:absl:<keras.layers.recurrent.LSTMCell object at 0x7fa9adc51a10> has the same name 'LSTMCell' as a built-in Keras object. Consider renaming <class 'keras.layers.recurrent.LSTMCell'> to avoid naming conflicts when loading with `tf.keras.models.load_model`. If renaming is not possible, pass the object in the `custom_objects` parameter of the load function.\n",
            "WARNING:absl:<keras.layers.recurrent.LSTMCell object at 0x7fa9ad990e50> has the same name 'LSTMCell' as a built-in Keras object. Consider renaming <class 'keras.layers.recurrent.LSTMCell'> to avoid naming conflicts when loading with `tf.keras.models.load_model`. If renaming is not possible, pass the object in the `custom_objects` parameter of the load function.\n",
            "\u001b[34m\u001b[1mwandb\u001b[0m: Adding directory to artifact (/content/wandb/run-20220919_165344-1kvrn8lk/files/model-best)... Done. 0.4s\n"
          ]
        },
        {
          "output_type": "stream",
          "name": "stdout",
          "text": [
            "\b\b\b\b\b\b\b\b\b\b\b\b\b\b\b\b\b\b\b\b\b\b\b\b\b\b\b\b\b\b\b\b\b\b\b\b\b\b\b\b\b\b\b\b\b\b\b\b\b\b\b\b\b\b\b\b\b\b\b\b\b\b\b\r45/45 [==============================] - 24s 548ms/step - loss: 0.0021 - val_loss: 0.0014\n",
            "Epoch 11/400\n",
            "45/45 [==============================] - 15s 344ms/step - loss: 0.0016 - val_loss: 0.0027\n",
            "Epoch 12/400\n",
            "45/45 [==============================] - 15s 343ms/step - loss: 0.0021 - val_loss: 0.0014\n",
            "Epoch 13/400\n",
            "45/45 [==============================] - ETA: 0s - loss: 0.0013"
          ]
        },
        {
          "output_type": "stream",
          "name": "stderr",
          "text": [
            "WARNING:absl:Found untraced functions such as lstm_cell_layer_call_fn, lstm_cell_layer_call_and_return_conditional_losses, lstm_cell_1_layer_call_fn, lstm_cell_1_layer_call_and_return_conditional_losses while saving (showing 4 of 4). These functions will not be directly callable after loading.\n",
            "WARNING:absl:<keras.layers.recurrent.LSTMCell object at 0x7fa9adc51a10> has the same name 'LSTMCell' as a built-in Keras object. Consider renaming <class 'keras.layers.recurrent.LSTMCell'> to avoid naming conflicts when loading with `tf.keras.models.load_model`. If renaming is not possible, pass the object in the `custom_objects` parameter of the load function.\n",
            "WARNING:absl:<keras.layers.recurrent.LSTMCell object at 0x7fa9ad990e50> has the same name 'LSTMCell' as a built-in Keras object. Consider renaming <class 'keras.layers.recurrent.LSTMCell'> to avoid naming conflicts when loading with `tf.keras.models.load_model`. If renaming is not possible, pass the object in the `custom_objects` parameter of the load function.\n",
            "\u001b[34m\u001b[1mwandb\u001b[0m: Adding directory to artifact (/content/wandb/run-20220919_165344-1kvrn8lk/files/model-best)... Done. 0.3s\n"
          ]
        },
        {
          "output_type": "stream",
          "name": "stdout",
          "text": [
            "\b\b\b\b\b\b\b\b\b\b\b\b\b\b\b\b\b\b\b\b\b\b\b\b\b\b\b\b\b\b\b\b\b\b\b\b\b\b\b\b\b\b\b\b\b\b\b\b\b\b\b\b\b\b\b\b\b\b\b\b\b\b\b\r45/45 [==============================] - 24s 531ms/step - loss: 0.0013 - val_loss: 0.0011\n",
            "Epoch 14/400\n",
            "45/45 [==============================] - 16s 346ms/step - loss: 0.0017 - val_loss: 0.0013\n",
            "Epoch 15/400\n",
            "45/45 [==============================] - 17s 382ms/step - loss: 0.0012 - val_loss: 0.0020\n",
            "Epoch 16/400\n",
            "45/45 [==============================] - ETA: 0s - loss: 0.0014"
          ]
        },
        {
          "output_type": "stream",
          "name": "stderr",
          "text": [
            "WARNING:absl:Found untraced functions such as lstm_cell_layer_call_fn, lstm_cell_layer_call_and_return_conditional_losses, lstm_cell_1_layer_call_fn, lstm_cell_1_layer_call_and_return_conditional_losses while saving (showing 4 of 4). These functions will not be directly callable after loading.\n",
            "WARNING:absl:<keras.layers.recurrent.LSTMCell object at 0x7fa9adc51a10> has the same name 'LSTMCell' as a built-in Keras object. Consider renaming <class 'keras.layers.recurrent.LSTMCell'> to avoid naming conflicts when loading with `tf.keras.models.load_model`. If renaming is not possible, pass the object in the `custom_objects` parameter of the load function.\n",
            "WARNING:absl:<keras.layers.recurrent.LSTMCell object at 0x7fa9ad990e50> has the same name 'LSTMCell' as a built-in Keras object. Consider renaming <class 'keras.layers.recurrent.LSTMCell'> to avoid naming conflicts when loading with `tf.keras.models.load_model`. If renaming is not possible, pass the object in the `custom_objects` parameter of the load function.\n",
            "\u001b[34m\u001b[1mwandb\u001b[0m: Adding directory to artifact (/content/wandb/run-20220919_165344-1kvrn8lk/files/model-best)... Done. 0.3s\n"
          ]
        },
        {
          "output_type": "stream",
          "name": "stdout",
          "text": [
            "\b\b\b\b\b\b\b\b\b\b\b\b\b\b\b\b\b\b\b\b\b\b\b\b\b\b\b\b\b\b\b\b\b\b\b\b\b\b\b\b\b\b\b\b\b\b\b\b\b\b\b\b\b\b\b\b\b\b\b\b\b\b\b\r45/45 [==============================] - 24s 549ms/step - loss: 0.0014 - val_loss: 0.0010\n",
            "Epoch 17/400\n",
            "45/45 [==============================] - 15s 343ms/step - loss: 0.0012 - val_loss: 0.0010\n",
            "Epoch 18/400\n",
            "45/45 [==============================] - ETA: 0s - loss: 9.3887e-04"
          ]
        },
        {
          "output_type": "stream",
          "name": "stderr",
          "text": [
            "WARNING:absl:Found untraced functions such as lstm_cell_layer_call_fn, lstm_cell_layer_call_and_return_conditional_losses, lstm_cell_1_layer_call_fn, lstm_cell_1_layer_call_and_return_conditional_losses while saving (showing 4 of 4). These functions will not be directly callable after loading.\n",
            "WARNING:absl:<keras.layers.recurrent.LSTMCell object at 0x7fa9adc51a10> has the same name 'LSTMCell' as a built-in Keras object. Consider renaming <class 'keras.layers.recurrent.LSTMCell'> to avoid naming conflicts when loading with `tf.keras.models.load_model`. If renaming is not possible, pass the object in the `custom_objects` parameter of the load function.\n",
            "WARNING:absl:<keras.layers.recurrent.LSTMCell object at 0x7fa9ad990e50> has the same name 'LSTMCell' as a built-in Keras object. Consider renaming <class 'keras.layers.recurrent.LSTMCell'> to avoid naming conflicts when loading with `tf.keras.models.load_model`. If renaming is not possible, pass the object in the `custom_objects` parameter of the load function.\n",
            "\u001b[34m\u001b[1mwandb\u001b[0m: Adding directory to artifact (/content/wandb/run-20220919_165344-1kvrn8lk/files/model-best)... Done. 0.4s\n"
          ]
        },
        {
          "output_type": "stream",
          "name": "stdout",
          "text": [
            "\b\b\b\b\b\b\b\b\b\b\b\b\b\b\b\b\b\b\b\b\b\b\b\b\b\b\b\b\b\b\b\b\b\b\b\b\b\b\b\b\b\b\b\b\b\b\b\b\b\b\b\b\b\b\b\b\b\b\b\b\b\b\b\b\b\b\b\r45/45 [==============================] - 26s 583ms/step - loss: 9.3887e-04 - val_loss: 7.5636e-04\n",
            "Epoch 19/400\n",
            "45/45 [==============================] - 15s 342ms/step - loss: 9.1595e-04 - val_loss: 7.8826e-04\n",
            "Epoch 20/400\n",
            "45/45 [==============================] - 17s 376ms/step - loss: 9.8770e-04 - val_loss: 8.2856e-04\n",
            "Epoch 21/400\n",
            "45/45 [==============================] - 15s 328ms/step - loss: 7.8272e-04 - val_loss: 8.9022e-04\n",
            "Epoch 22/400\n",
            "45/45 [==============================] - 15s 329ms/step - loss: 0.0011 - val_loss: 0.0026\n",
            "Epoch 23/400\n",
            "45/45 [==============================] - 16s 346ms/step - loss: 0.0011 - val_loss: 8.1215e-04\n",
            "Epoch 24/400\n",
            "45/45 [==============================] - ETA: 0s - loss: 9.0471e-04"
          ]
        },
        {
          "output_type": "stream",
          "name": "stderr",
          "text": [
            "WARNING:absl:Found untraced functions such as lstm_cell_layer_call_fn, lstm_cell_layer_call_and_return_conditional_losses, lstm_cell_1_layer_call_fn, lstm_cell_1_layer_call_and_return_conditional_losses while saving (showing 4 of 4). These functions will not be directly callable after loading.\n",
            "WARNING:absl:<keras.layers.recurrent.LSTMCell object at 0x7fa9adc51a10> has the same name 'LSTMCell' as a built-in Keras object. Consider renaming <class 'keras.layers.recurrent.LSTMCell'> to avoid naming conflicts when loading with `tf.keras.models.load_model`. If renaming is not possible, pass the object in the `custom_objects` parameter of the load function.\n",
            "WARNING:absl:<keras.layers.recurrent.LSTMCell object at 0x7fa9ad990e50> has the same name 'LSTMCell' as a built-in Keras object. Consider renaming <class 'keras.layers.recurrent.LSTMCell'> to avoid naming conflicts when loading with `tf.keras.models.load_model`. If renaming is not possible, pass the object in the `custom_objects` parameter of the load function.\n",
            "\u001b[34m\u001b[1mwandb\u001b[0m: Adding directory to artifact (/content/wandb/run-20220919_165344-1kvrn8lk/files/model-best)... Done. 0.9s\n"
          ]
        },
        {
          "output_type": "stream",
          "name": "stdout",
          "text": [
            "\b\b\b\b\b\b\b\b\b\b\b\b\b\b\b\b\b\b\b\b\b\b\b\b\b\b\b\b\b\b\b\b\b\b\b\b\b\b\b\b\b\b\b\b\b\b\b\b\b\b\b\b\b\b\b\b\b\b\b\b\b\b\b\b\b\b\b\r45/45 [==============================] - 30s 672ms/step - loss: 9.0471e-04 - val_loss: 6.5232e-04\n",
            "Epoch 25/400\n",
            "45/45 [==============================] - 15s 339ms/step - loss: 9.6750e-04 - val_loss: 0.0011\n",
            "Epoch 26/400\n",
            "45/45 [==============================] - ETA: 0s - loss: 7.7288e-04"
          ]
        },
        {
          "output_type": "stream",
          "name": "stderr",
          "text": [
            "WARNING:absl:Found untraced functions such as lstm_cell_layer_call_fn, lstm_cell_layer_call_and_return_conditional_losses, lstm_cell_1_layer_call_fn, lstm_cell_1_layer_call_and_return_conditional_losses while saving (showing 4 of 4). These functions will not be directly callable after loading.\n",
            "WARNING:absl:<keras.layers.recurrent.LSTMCell object at 0x7fa9adc51a10> has the same name 'LSTMCell' as a built-in Keras object. Consider renaming <class 'keras.layers.recurrent.LSTMCell'> to avoid naming conflicts when loading with `tf.keras.models.load_model`. If renaming is not possible, pass the object in the `custom_objects` parameter of the load function.\n",
            "WARNING:absl:<keras.layers.recurrent.LSTMCell object at 0x7fa9ad990e50> has the same name 'LSTMCell' as a built-in Keras object. Consider renaming <class 'keras.layers.recurrent.LSTMCell'> to avoid naming conflicts when loading with `tf.keras.models.load_model`. If renaming is not possible, pass the object in the `custom_objects` parameter of the load function.\n",
            "\u001b[34m\u001b[1mwandb\u001b[0m: Adding directory to artifact (/content/wandb/run-20220919_165344-1kvrn8lk/files/model-best)... Done. 0.4s\n"
          ]
        },
        {
          "output_type": "stream",
          "name": "stdout",
          "text": [
            "\b\b\b\b\b\b\b\b\b\b\b\b\b\b\b\b\b\b\b\b\b\b\b\b\b\b\b\b\b\b\b\b\b\b\b\b\b\b\b\b\b\b\b\b\b\b\b\b\b\b\b\b\b\b\b\b\b\b\b\b\b\b\b\b\b\b\b\r45/45 [==============================] - 25s 550ms/step - loss: 7.7288e-04 - val_loss: 6.5207e-04\n",
            "Epoch 27/400\n",
            "45/45 [==============================] - 15s 333ms/step - loss: 7.2074e-04 - val_loss: 7.5947e-04\n",
            "Epoch 28/400\n",
            "45/45 [==============================] - 17s 377ms/step - loss: 9.8064e-04 - val_loss: 7.6506e-04\n",
            "Epoch 29/400\n",
            "45/45 [==============================] - ETA: 0s - loss: 6.5746e-04"
          ]
        },
        {
          "output_type": "stream",
          "name": "stderr",
          "text": [
            "WARNING:absl:Found untraced functions such as lstm_cell_layer_call_fn, lstm_cell_layer_call_and_return_conditional_losses, lstm_cell_1_layer_call_fn, lstm_cell_1_layer_call_and_return_conditional_losses while saving (showing 4 of 4). These functions will not be directly callable after loading.\n",
            "WARNING:absl:<keras.layers.recurrent.LSTMCell object at 0x7fa9adc51a10> has the same name 'LSTMCell' as a built-in Keras object. Consider renaming <class 'keras.layers.recurrent.LSTMCell'> to avoid naming conflicts when loading with `tf.keras.models.load_model`. If renaming is not possible, pass the object in the `custom_objects` parameter of the load function.\n",
            "WARNING:absl:<keras.layers.recurrent.LSTMCell object at 0x7fa9ad990e50> has the same name 'LSTMCell' as a built-in Keras object. Consider renaming <class 'keras.layers.recurrent.LSTMCell'> to avoid naming conflicts when loading with `tf.keras.models.load_model`. If renaming is not possible, pass the object in the `custom_objects` parameter of the load function.\n",
            "\u001b[34m\u001b[1mwandb\u001b[0m: Adding directory to artifact (/content/wandb/run-20220919_165344-1kvrn8lk/files/model-best)... Done. 0.4s\n"
          ]
        },
        {
          "output_type": "stream",
          "name": "stdout",
          "text": [
            "\b\b\b\b\b\b\b\b\b\b\b\b\b\b\b\b\b\b\b\b\b\b\b\b\b\b\b\b\b\b\b\b\b\b\b\b\b\b\b\b\b\b\b\b\b\b\b\b\b\b\b\b\b\b\b\b\b\b\b\b\b\b\b\b\b\b\b\r45/45 [==============================] - 24s 537ms/step - loss: 6.5746e-04 - val_loss: 4.4186e-04\n",
            "Epoch 30/400\n",
            "45/45 [==============================] - 16s 356ms/step - loss: 9.4166e-04 - val_loss: 5.3068e-04\n",
            "Epoch 31/400\n",
            "45/45 [==============================] - 15s 338ms/step - loss: 7.4925e-04 - val_loss: 5.1646e-04\n",
            "Epoch 32/400\n",
            "45/45 [==============================] - 15s 335ms/step - loss: 6.6542e-04 - val_loss: 4.9100e-04\n",
            "Epoch 33/400\n",
            "45/45 [==============================] - 15s 337ms/step - loss: 7.4530e-04 - val_loss: 7.6627e-04\n",
            "Epoch 34/400\n",
            "45/45 [==============================] - ETA: 0s - loss: 6.0939e-04"
          ]
        },
        {
          "output_type": "stream",
          "name": "stderr",
          "text": [
            "WARNING:absl:Found untraced functions such as lstm_cell_layer_call_fn, lstm_cell_layer_call_and_return_conditional_losses, lstm_cell_1_layer_call_fn, lstm_cell_1_layer_call_and_return_conditional_losses while saving (showing 4 of 4). These functions will not be directly callable after loading.\n",
            "WARNING:absl:<keras.layers.recurrent.LSTMCell object at 0x7fa9adc51a10> has the same name 'LSTMCell' as a built-in Keras object. Consider renaming <class 'keras.layers.recurrent.LSTMCell'> to avoid naming conflicts when loading with `tf.keras.models.load_model`. If renaming is not possible, pass the object in the `custom_objects` parameter of the load function.\n",
            "WARNING:absl:<keras.layers.recurrent.LSTMCell object at 0x7fa9ad990e50> has the same name 'LSTMCell' as a built-in Keras object. Consider renaming <class 'keras.layers.recurrent.LSTMCell'> to avoid naming conflicts when loading with `tf.keras.models.load_model`. If renaming is not possible, pass the object in the `custom_objects` parameter of the load function.\n",
            "\u001b[34m\u001b[1mwandb\u001b[0m: Adding directory to artifact (/content/wandb/run-20220919_165344-1kvrn8lk/files/model-best)... Done. 0.3s\n"
          ]
        },
        {
          "output_type": "stream",
          "name": "stdout",
          "text": [
            "\b\b\b\b\b\b\b\b\b\b\b\b\b\b\b\b\b\b\b\b\b\b\b\b\b\b\b\b\b\b\b\b\b\b\b\b\b\b\b\b\b\b\b\b\b\b\b\b\b\b\b\b\b\b\b\b\b\b\b\b\b\b\b\b\b\b\b\r45/45 [==============================] - 26s 580ms/step - loss: 6.0939e-04 - val_loss: 4.1955e-04\n",
            "Epoch 35/400\n",
            "45/45 [==============================] - 15s 341ms/step - loss: 5.0779e-04 - val_loss: 0.0013\n",
            "Epoch 36/400\n",
            "45/45 [==============================] - 15s 334ms/step - loss: 9.6151e-04 - val_loss: 5.0683e-04\n",
            "Epoch 37/400\n",
            "45/45 [==============================] - 15s 330ms/step - loss: 7.1014e-04 - val_loss: 6.6167e-04\n",
            "Epoch 38/400\n",
            "45/45 [==============================] - ETA: 0s - loss: 5.0627e-04"
          ]
        },
        {
          "output_type": "stream",
          "name": "stderr",
          "text": [
            "WARNING:absl:Found untraced functions such as lstm_cell_layer_call_fn, lstm_cell_layer_call_and_return_conditional_losses, lstm_cell_1_layer_call_fn, lstm_cell_1_layer_call_and_return_conditional_losses while saving (showing 4 of 4). These functions will not be directly callable after loading.\n",
            "WARNING:absl:<keras.layers.recurrent.LSTMCell object at 0x7fa9adc51a10> has the same name 'LSTMCell' as a built-in Keras object. Consider renaming <class 'keras.layers.recurrent.LSTMCell'> to avoid naming conflicts when loading with `tf.keras.models.load_model`. If renaming is not possible, pass the object in the `custom_objects` parameter of the load function.\n",
            "WARNING:absl:<keras.layers.recurrent.LSTMCell object at 0x7fa9ad990e50> has the same name 'LSTMCell' as a built-in Keras object. Consider renaming <class 'keras.layers.recurrent.LSTMCell'> to avoid naming conflicts when loading with `tf.keras.models.load_model`. If renaming is not possible, pass the object in the `custom_objects` parameter of the load function.\n",
            "\u001b[34m\u001b[1mwandb\u001b[0m: Adding directory to artifact (/content/wandb/run-20220919_165344-1kvrn8lk/files/model-best)... Done. 0.4s\n"
          ]
        },
        {
          "output_type": "stream",
          "name": "stdout",
          "text": [
            "\b\b\b\b\b\b\b\b\b\b\b\b\b\b\b\b\b\b\b\b\b\b\b\b\b\b\b\b\b\b\b\b\b\b\b\b\b\b\b\b\b\b\b\b\b\b\b\b\b\b\b\b\b\b\b\b\b\b\b\b\b\b\b\b\b\b\b\r45/45 [==============================] - 25s 564ms/step - loss: 5.0627e-04 - val_loss: 3.1783e-04\n",
            "Epoch 39/400\n",
            "45/45 [==============================] - ETA: 0s - loss: 5.0993e-04"
          ]
        },
        {
          "output_type": "stream",
          "name": "stderr",
          "text": [
            "WARNING:absl:Found untraced functions such as lstm_cell_layer_call_fn, lstm_cell_layer_call_and_return_conditional_losses, lstm_cell_1_layer_call_fn, lstm_cell_1_layer_call_and_return_conditional_losses while saving (showing 4 of 4). These functions will not be directly callable after loading.\n",
            "WARNING:absl:<keras.layers.recurrent.LSTMCell object at 0x7fa9adc51a10> has the same name 'LSTMCell' as a built-in Keras object. Consider renaming <class 'keras.layers.recurrent.LSTMCell'> to avoid naming conflicts when loading with `tf.keras.models.load_model`. If renaming is not possible, pass the object in the `custom_objects` parameter of the load function.\n",
            "WARNING:absl:<keras.layers.recurrent.LSTMCell object at 0x7fa9ad990e50> has the same name 'LSTMCell' as a built-in Keras object. Consider renaming <class 'keras.layers.recurrent.LSTMCell'> to avoid naming conflicts when loading with `tf.keras.models.load_model`. If renaming is not possible, pass the object in the `custom_objects` parameter of the load function.\n",
            "\u001b[34m\u001b[1mwandb\u001b[0m: Adding directory to artifact (/content/wandb/run-20220919_165344-1kvrn8lk/files/model-best)... Done. 0.4s\n"
          ]
        },
        {
          "output_type": "stream",
          "name": "stdout",
          "text": [
            "\b\b\b\b\b\b\b\b\b\b\b\b\b\b\b\b\b\b\b\b\b\b\b\b\b\b\b\b\b\b\b\b\b\b\b\b\b\b\b\b\b\b\b\b\b\b\b\b\b\b\b\b\b\b\b\b\b\b\b\b\b\b\b\b\b\b\b\r45/45 [==============================] - 24s 549ms/step - loss: 5.0993e-04 - val_loss: 2.9145e-04\n",
            "Epoch 40/400\n",
            "45/45 [==============================] - ETA: 0s - loss: 4.1166e-04"
          ]
        },
        {
          "output_type": "stream",
          "name": "stderr",
          "text": [
            "WARNING:absl:Found untraced functions such as lstm_cell_layer_call_fn, lstm_cell_layer_call_and_return_conditional_losses, lstm_cell_1_layer_call_fn, lstm_cell_1_layer_call_and_return_conditional_losses while saving (showing 4 of 4). These functions will not be directly callable after loading.\n",
            "WARNING:absl:<keras.layers.recurrent.LSTMCell object at 0x7fa9adc51a10> has the same name 'LSTMCell' as a built-in Keras object. Consider renaming <class 'keras.layers.recurrent.LSTMCell'> to avoid naming conflicts when loading with `tf.keras.models.load_model`. If renaming is not possible, pass the object in the `custom_objects` parameter of the load function.\n",
            "WARNING:absl:<keras.layers.recurrent.LSTMCell object at 0x7fa9ad990e50> has the same name 'LSTMCell' as a built-in Keras object. Consider renaming <class 'keras.layers.recurrent.LSTMCell'> to avoid naming conflicts when loading with `tf.keras.models.load_model`. If renaming is not possible, pass the object in the `custom_objects` parameter of the load function.\n",
            "\u001b[34m\u001b[1mwandb\u001b[0m: Adding directory to artifact (/content/wandb/run-20220919_165344-1kvrn8lk/files/model-best)... Done. 0.3s\n"
          ]
        },
        {
          "output_type": "stream",
          "name": "stdout",
          "text": [
            "\b\b\b\b\b\b\b\b\b\b\b\b\b\b\b\b\b\b\b\b\b\b\b\b\b\b\b\b\b\b\b\b\b\b\b\b\b\b\b\b\b\b\b\b\b\b\b\b\b\b\b\b\b\b\b\b\b\b\b\b\b\b\b\b\b\b\b\r45/45 [==============================] - 23s 526ms/step - loss: 4.1166e-04 - val_loss: 2.2967e-04\n",
            "Epoch 41/400\n",
            "45/45 [==============================] - 15s 331ms/step - loss: 3.7326e-04 - val_loss: 2.7229e-04\n",
            "Epoch 42/400\n",
            "45/45 [==============================] - 15s 329ms/step - loss: 5.8370e-04 - val_loss: 4.2708e-04\n",
            "Epoch 43/400\n",
            "45/45 [==============================] - 15s 331ms/step - loss: 5.5012e-04 - val_loss: 7.7303e-04\n",
            "Epoch 44/400\n",
            "45/45 [==============================] - 16s 347ms/step - loss: 5.4598e-04 - val_loss: 6.1139e-04\n",
            "Epoch 45/400\n",
            "45/45 [==============================] - 16s 359ms/step - loss: 4.5879e-04 - val_loss: 2.8211e-04\n",
            "Epoch 46/400\n",
            "45/45 [==============================] - 15s 335ms/step - loss: 4.0618e-04 - val_loss: 3.5025e-04\n",
            "Epoch 47/400\n",
            "45/45 [==============================] - 15s 338ms/step - loss: 4.0982e-04 - val_loss: 3.4641e-04\n",
            "Epoch 48/400\n",
            "45/45 [==============================] - 15s 339ms/step - loss: 4.4338e-04 - val_loss: 8.2314e-04\n",
            "Epoch 49/400\n",
            "45/45 [==============================] - 17s 377ms/step - loss: 5.7338e-04 - val_loss: 5.2315e-04\n",
            "Epoch 50/400\n",
            "45/45 [==============================] - 15s 329ms/step - loss: 5.0724e-04 - val_loss: 2.7460e-04\n",
            "Epoch 51/400\n",
            "45/45 [==============================] - 15s 332ms/step - loss: 5.5341e-04 - val_loss: 6.4515e-04\n",
            "Epoch 52/400\n",
            "45/45 [==============================] - 15s 329ms/step - loss: 4.5435e-04 - val_loss: 3.7217e-04\n",
            "Epoch 53/400\n",
            "45/45 [==============================] - 15s 329ms/step - loss: 4.5996e-04 - val_loss: 5.3205e-04\n",
            "Epoch 54/400\n",
            "45/45 [==============================] - 15s 328ms/step - loss: 4.5101e-04 - val_loss: 4.9412e-04\n",
            "Epoch 55/400\n",
            "45/45 [==============================] - 16s 355ms/step - loss: 5.8038e-04 - val_loss: 5.6788e-04\n",
            "Epoch 56/400\n",
            "45/45 [==============================] - 18s 394ms/step - loss: 4.5835e-04 - val_loss: 5.8082e-04\n",
            "Epoch 57/400\n",
            "45/45 [==============================] - 16s 350ms/step - loss: 4.9480e-04 - val_loss: 6.0976e-04\n",
            "Epoch 58/400\n",
            "45/45 [==============================] - 15s 334ms/step - loss: 3.8316e-04 - val_loss: 6.7310e-04\n",
            "Epoch 59/400\n",
            "45/45 [==============================] - 15s 332ms/step - loss: 4.3815e-04 - val_loss: 2.3043e-04\n",
            "Epoch 60/400\n",
            "45/45 [==============================] - 19s 416ms/step - loss: 3.9649e-04 - val_loss: 3.0954e-04\n",
            "Epoch 61/400\n",
            "45/45 [==============================] - 17s 387ms/step - loss: 4.3627e-04 - val_loss: 9.3130e-04\n",
            "Epoch 62/400\n",
            "45/45 [==============================] - 16s 350ms/step - loss: 4.6051e-04 - val_loss: 6.5998e-04\n",
            "Epoch 63/400\n",
            "45/45 [==============================] - 16s 356ms/step - loss: 4.6646e-04 - val_loss: 4.5470e-04\n",
            "Epoch 64/400\n",
            "45/45 [==============================] - 16s 353ms/step - loss: 4.8328e-04 - val_loss: 5.8615e-04\n",
            "Epoch 65/400\n",
            "45/45 [==============================] - 15s 336ms/step - loss: 3.9310e-04 - val_loss: 3.1171e-04\n",
            "Epoch 66/400\n",
            "45/45 [==============================] - 15s 339ms/step - loss: 4.0682e-04 - val_loss: 2.7891e-04\n",
            "Epoch 67/400\n",
            "45/45 [==============================] - 15s 343ms/step - loss: 3.7779e-04 - val_loss: 2.9914e-04\n",
            "Epoch 68/400\n",
            "45/45 [==============================] - 18s 395ms/step - loss: 3.1983e-04 - val_loss: 2.9431e-04\n",
            "Epoch 69/400\n",
            "45/45 [==============================] - 15s 345ms/step - loss: 3.1981e-04 - val_loss: 7.9441e-04\n",
            "Epoch 70/400\n",
            "45/45 [==============================] - 15s 342ms/step - loss: 3.9624e-04 - val_loss: 5.6821e-04\n",
            "Epoch 71/400\n",
            "45/45 [==============================] - 16s 353ms/step - loss: 5.0175e-04 - val_loss: 2.5920e-04\n",
            "Epoch 72/400\n",
            "45/45 [==============================] - 18s 405ms/step - loss: 4.1942e-04 - val_loss: 4.8923e-04\n",
            "Epoch 73/400\n",
            "45/45 [==============================] - 17s 369ms/step - loss: 4.2384e-04 - val_loss: 3.0237e-04\n",
            "Epoch 74/400\n",
            "45/45 [==============================] - 17s 375ms/step - loss: 3.5114e-04 - val_loss: 2.3986e-04\n",
            "Epoch 75/400\n",
            "45/45 [==============================] - 17s 373ms/step - loss: 3.0819e-04 - val_loss: 3.7464e-04\n",
            "Epoch 76/400\n",
            "45/45 [==============================] - 17s 387ms/step - loss: 4.7054e-04 - val_loss: 3.3921e-04\n",
            "Epoch 77/400\n",
            "45/45 [==============================] - 17s 382ms/step - loss: 5.1534e-04 - val_loss: 4.8457e-04\n",
            "Epoch 78/400\n",
            "45/45 [==============================] - 19s 415ms/step - loss: 4.6627e-04 - val_loss: 6.6401e-04\n",
            "Epoch 79/400\n",
            "45/45 [==============================] - 19s 407ms/step - loss: 4.2530e-04 - val_loss: 4.5078e-04\n",
            "Epoch 80/400\n",
            "45/45 [==============================] - 18s 394ms/step - loss: 4.3260e-04 - val_loss: 3.6242e-04\n",
            "Epoch 81/400\n",
            "45/45 [==============================] - 18s 391ms/step - loss: 4.0548e-04 - val_loss: 2.8351e-04\n",
            "Epoch 82/400\n",
            "45/45 [==============================] - 18s 395ms/step - loss: 4.1797e-04 - val_loss: 4.1709e-04\n",
            "Epoch 83/400\n",
            "45/45 [==============================] - 19s 428ms/step - loss: 4.5873e-04 - val_loss: 3.3998e-04\n",
            "Epoch 84/400\n",
            "45/45 [==============================] - 18s 391ms/step - loss: 3.8397e-04 - val_loss: 3.2527e-04\n",
            "Epoch 85/400\n",
            "45/45 [==============================] - 17s 388ms/step - loss: 3.1698e-04 - val_loss: 4.3193e-04\n",
            "Epoch 86/400\n",
            "45/45 [==============================] - 17s 381ms/step - loss: 4.2762e-04 - val_loss: 3.7643e-04\n",
            "Epoch 87/400\n",
            "45/45 [==============================] - 17s 389ms/step - loss: 4.7272e-04 - val_loss: 2.5161e-04\n",
            "Epoch 88/400\n",
            "45/45 [==============================] - 17s 387ms/step - loss: 3.5814e-04 - val_loss: 5.1531e-04\n",
            "Epoch 89/400\n",
            "45/45 [==============================] - 19s 431ms/step - loss: 3.9114e-04 - val_loss: 4.4557e-04\n",
            "Epoch 90/400\n",
            "45/45 [==============================] - 17s 389ms/step - loss: 3.8116e-04 - val_loss: 3.2067e-04\n",
            "Epoch 91/400\n",
            "45/45 [==============================] - 17s 372ms/step - loss: 4.1822e-04 - val_loss: 4.5663e-04\n",
            "Epoch 92/400\n",
            "45/45 [==============================] - 16s 365ms/step - loss: 4.4348e-04 - val_loss: 2.8390e-04\n",
            "Epoch 93/400\n",
            "45/45 [==============================] - 18s 409ms/step - loss: 3.6241e-04 - val_loss: 3.4926e-04\n",
            "Epoch 94/400\n",
            "45/45 [==============================] - 17s 369ms/step - loss: 3.5615e-04 - val_loss: 5.2542e-04\n",
            "Epoch 95/400\n",
            "45/45 [==============================] - 16s 365ms/step - loss: 3.9434e-04 - val_loss: 2.4939e-04\n",
            "Epoch 96/400\n",
            "45/45 [==============================] - 16s 365ms/step - loss: 3.6267e-04 - val_loss: 4.1743e-04\n",
            "Epoch 97/400\n",
            "45/45 [==============================] - 16s 366ms/step - loss: 3.2139e-04 - val_loss: 2.5112e-04\n",
            "Epoch 98/400\n",
            "45/45 [==============================] - 16s 362ms/step - loss: 3.3135e-04 - val_loss: 2.6081e-04\n",
            "Epoch 99/400\n",
            "45/45 [==============================] - 19s 413ms/step - loss: 3.2557e-04 - val_loss: 3.9534e-04\n",
            "Epoch 100/400\n",
            "45/45 [==============================] - ETA: 0s - loss: 3.4692e-04"
          ]
        },
        {
          "output_type": "stream",
          "name": "stderr",
          "text": [
            "WARNING:absl:Found untraced functions such as lstm_cell_layer_call_fn, lstm_cell_layer_call_and_return_conditional_losses, lstm_cell_1_layer_call_fn, lstm_cell_1_layer_call_and_return_conditional_losses while saving (showing 4 of 4). These functions will not be directly callable after loading.\n",
            "WARNING:absl:<keras.layers.recurrent.LSTMCell object at 0x7fa9adc51a10> has the same name 'LSTMCell' as a built-in Keras object. Consider renaming <class 'keras.layers.recurrent.LSTMCell'> to avoid naming conflicts when loading with `tf.keras.models.load_model`. If renaming is not possible, pass the object in the `custom_objects` parameter of the load function.\n",
            "WARNING:absl:<keras.layers.recurrent.LSTMCell object at 0x7fa9ad990e50> has the same name 'LSTMCell' as a built-in Keras object. Consider renaming <class 'keras.layers.recurrent.LSTMCell'> to avoid naming conflicts when loading with `tf.keras.models.load_model`. If renaming is not possible, pass the object in the `custom_objects` parameter of the load function.\n",
            "\u001b[34m\u001b[1mwandb\u001b[0m: Adding directory to artifact (/content/wandb/run-20220919_165344-1kvrn8lk/files/model-best)... Done. 0.4s\n"
          ]
        },
        {
          "output_type": "stream",
          "name": "stdout",
          "text": [
            "\b\b\b\b\b\b\b\b\b\b\b\b\b\b\b\b\b\b\b\b\b\b\b\b\b\b\b\b\b\b\b\b\b\b\b\b\b\b\b\b\b\b\b\b\b\b\b\b\b\b\b\b\b\b\b\b\b\b\b\b\b\b\b\b\b\b\b\r45/45 [==============================] - 27s 601ms/step - loss: 3.4692e-04 - val_loss: 1.9346e-04\n",
            "Epoch 101/400\n",
            "45/45 [==============================] - 17s 370ms/step - loss: 3.3010e-04 - val_loss: 2.9779e-04\n",
            "Epoch 102/400\n",
            "45/45 [==============================] - 17s 372ms/step - loss: 6.0072e-04 - val_loss: 6.8279e-04\n",
            "Epoch 103/400\n",
            "45/45 [==============================] - 18s 411ms/step - loss: 4.3699e-04 - val_loss: 3.2808e-04\n",
            "Epoch 104/400\n",
            "45/45 [==============================] - 17s 369ms/step - loss: 3.4291e-04 - val_loss: 3.3908e-04\n",
            "Epoch 105/400\n",
            "45/45 [==============================] - 16s 364ms/step - loss: 3.4810e-04 - val_loss: 2.8189e-04\n",
            "Epoch 106/400\n",
            "45/45 [==============================] - 16s 363ms/step - loss: 3.0655e-04 - val_loss: 2.1201e-04\n",
            "Epoch 107/400\n",
            "45/45 [==============================] - 16s 360ms/step - loss: 3.6888e-04 - val_loss: 3.2901e-04\n",
            "Epoch 108/400\n",
            "45/45 [==============================] - 16s 359ms/step - loss: 3.8300e-04 - val_loss: 4.4315e-04\n",
            "Epoch 109/400\n",
            "45/45 [==============================] - 18s 401ms/step - loss: 3.6724e-04 - val_loss: 3.1206e-04\n",
            "Epoch 110/400\n",
            "45/45 [==============================] - 17s 371ms/step - loss: 3.7783e-04 - val_loss: 2.0359e-04\n",
            "Epoch 111/400\n",
            "45/45 [==============================] - 16s 363ms/step - loss: 2.7319e-04 - val_loss: 2.2532e-04\n",
            "Epoch 112/400\n",
            "45/45 [==============================] - 16s 349ms/step - loss: 4.9127e-04 - val_loss: 3.8126e-04\n",
            "Epoch 113/400\n",
            "45/45 [==============================] - 16s 351ms/step - loss: 4.2839e-04 - val_loss: 3.5008e-04\n",
            "Epoch 114/400\n",
            "45/45 [==============================] - 18s 395ms/step - loss: 3.4895e-04 - val_loss: 2.6349e-04\n",
            "Epoch 115/400\n",
            "45/45 [==============================] - 16s 359ms/step - loss: 3.9152e-04 - val_loss: 2.6749e-04\n",
            "Epoch 116/400\n",
            "45/45 [==============================] - 16s 356ms/step - loss: 3.4232e-04 - val_loss: 4.4162e-04\n",
            "Epoch 117/400\n",
            "45/45 [==============================] - 16s 360ms/step - loss: 2.8641e-04 - val_loss: 2.6019e-04\n",
            "Epoch 118/400\n",
            "45/45 [==============================] - 16s 362ms/step - loss: 3.3008e-04 - val_loss: 3.2370e-04\n",
            "Epoch 119/400\n",
            "45/45 [==============================] - 16s 357ms/step - loss: 3.1927e-04 - val_loss: 3.3024e-04\n",
            "Epoch 120/400\n",
            "45/45 [==============================] - 18s 393ms/step - loss: 3.2831e-04 - val_loss: 4.1159e-04\n",
            "Epoch 121/400\n",
            "45/45 [==============================] - 16s 348ms/step - loss: 5.1796e-04 - val_loss: 2.3020e-04\n",
            "Epoch 122/400\n",
            "45/45 [==============================] - 16s 346ms/step - loss: 2.9781e-04 - val_loss: 4.0003e-04\n",
            "Epoch 123/400\n",
            "45/45 [==============================] - 16s 350ms/step - loss: 3.1882e-04 - val_loss: 3.8435e-04\n",
            "Epoch 124/400\n",
            "45/45 [==============================] - 16s 353ms/step - loss: 3.3271e-04 - val_loss: 2.9230e-04\n",
            "Epoch 125/400\n",
            "45/45 [==============================] - 17s 386ms/step - loss: 2.7040e-04 - val_loss: 2.3852e-04\n",
            "Epoch 126/400\n",
            "45/45 [==============================] - 16s 349ms/step - loss: 3.0215e-04 - val_loss: 4.7266e-04\n",
            "Epoch 127/400\n",
            "45/45 [==============================] - 16s 359ms/step - loss: 3.4084e-04 - val_loss: 3.3686e-04\n",
            "Epoch 128/400\n",
            "45/45 [==============================] - 16s 358ms/step - loss: 3.5785e-04 - val_loss: 3.7707e-04\n",
            "Epoch 129/400\n",
            "45/45 [==============================] - 16s 361ms/step - loss: 3.6178e-04 - val_loss: 2.9196e-04\n",
            "Epoch 130/400\n",
            "45/45 [==============================] - 16s 350ms/step - loss: 3.0405e-04 - val_loss: 4.0759e-04\n",
            "Epoch 131/400\n",
            "45/45 [==============================] - 15s 343ms/step - loss: 3.1646e-04 - val_loss: 2.3517e-04\n",
            "Epoch 132/400\n",
            "45/45 [==============================] - 17s 372ms/step - loss: 2.9396e-04 - val_loss: 2.7377e-04\n",
            "Epoch 133/400\n",
            "45/45 [==============================] - 15s 337ms/step - loss: 3.8935e-04 - val_loss: 3.2981e-04\n",
            "Epoch 134/400\n",
            "45/45 [==============================] - 15s 336ms/step - loss: 2.8944e-04 - val_loss: 2.2769e-04\n",
            "Epoch 135/400\n",
            "45/45 [==============================] - 15s 334ms/step - loss: 2.8796e-04 - val_loss: 2.6720e-04\n",
            "Epoch 136/400\n",
            "45/45 [==============================] - 17s 376ms/step - loss: 2.8950e-04 - val_loss: 2.3438e-04\n",
            "Epoch 137/400\n",
            "45/45 [==============================] - 15s 331ms/step - loss: 3.8616e-04 - val_loss: 2.4775e-04\n",
            "Epoch 138/400\n",
            "45/45 [==============================] - 15s 345ms/step - loss: 3.6377e-04 - val_loss: 3.3915e-04\n",
            "Epoch 139/400\n",
            "45/45 [==============================] - 16s 348ms/step - loss: 3.1661e-04 - val_loss: 2.6332e-04\n",
            "Epoch 140/400\n",
            "45/45 [==============================] - 15s 338ms/step - loss: 3.1094e-04 - val_loss: 2.6730e-04\n",
            "Epoch 141/400\n",
            "45/45 [==============================] - 15s 332ms/step - loss: 3.0698e-04 - val_loss: 2.4018e-04\n",
            "Epoch 142/400\n",
            "45/45 [==============================] - 15s 328ms/step - loss: 3.0166e-04 - val_loss: 3.1874e-04\n",
            "Epoch 143/400\n",
            "45/45 [==============================] - 17s 379ms/step - loss: 3.4670e-04 - val_loss: 3.3914e-04\n",
            "Epoch 144/400\n",
            "45/45 [==============================] - 15s 327ms/step - loss: 3.0719e-04 - val_loss: 2.2502e-04\n",
            "Epoch 145/400\n",
            "45/45 [==============================] - 15s 334ms/step - loss: 2.7341e-04 - val_loss: 2.6201e-04\n",
            "Epoch 146/400\n",
            "45/45 [==============================] - 15s 344ms/step - loss: 2.5581e-04 - val_loss: 2.6319e-04\n",
            "Epoch 147/400\n",
            "45/45 [==============================] - 15s 334ms/step - loss: 2.7716e-04 - val_loss: 2.4560e-04\n",
            "Epoch 148/400\n",
            "45/45 [==============================] - 17s 376ms/step - loss: 2.8967e-04 - val_loss: 2.8656e-04\n",
            "Epoch 149/400\n",
            "45/45 [==============================] - 15s 343ms/step - loss: 2.5884e-04 - val_loss: 2.7146e-04\n",
            "Epoch 150/400\n",
            "45/45 [==============================] - 15s 337ms/step - loss: 3.7197e-04 - val_loss: 2.9273e-04\n",
            "Epoch 151/400\n",
            "45/45 [==============================] - 15s 343ms/step - loss: 3.1002e-04 - val_loss: 2.2397e-04\n",
            "Epoch 152/400\n",
            "45/45 [==============================] - 16s 361ms/step - loss: 2.7587e-04 - val_loss: 2.6778e-04\n",
            "Epoch 153/400\n",
            "45/45 [==============================] - 16s 346ms/step - loss: 3.2275e-04 - val_loss: 2.0807e-04\n",
            "Epoch 154/400\n",
            "45/45 [==============================] - 15s 330ms/step - loss: 3.2118e-04 - val_loss: 2.9613e-04\n",
            "Epoch 155/400\n",
            "45/45 [==============================] - 18s 392ms/step - loss: 3.5693e-04 - val_loss: 3.0220e-04\n",
            "Epoch 156/400\n",
            "45/45 [==============================] - 15s 331ms/step - loss: 2.7411e-04 - val_loss: 2.6975e-04\n",
            "Epoch 157/400\n",
            "45/45 [==============================] - 15s 331ms/step - loss: 2.9760e-04 - val_loss: 2.7568e-04\n",
            "Epoch 158/400\n",
            "45/45 [==============================] - 15s 343ms/step - loss: 2.6402e-04 - val_loss: 2.2292e-04\n",
            "Epoch 159/400\n",
            "45/45 [==============================] - 17s 375ms/step - loss: 3.8383e-04 - val_loss: 2.7165e-04\n",
            "Epoch 160/400\n",
            "45/45 [==============================] - 16s 348ms/step - loss: 2.7700e-04 - val_loss: 4.0890e-04\n",
            "Epoch 161/400\n",
            "45/45 [==============================] - 15s 334ms/step - loss: 2.8883e-04 - val_loss: 2.7880e-04\n",
            "Epoch 162/400\n",
            "45/45 [==============================] - 15s 332ms/step - loss: 2.6043e-04 - val_loss: 2.3630e-04\n",
            "Epoch 163/400\n",
            "45/45 [==============================] - 15s 336ms/step - loss: 2.5441e-04 - val_loss: 2.8666e-04\n",
            "Epoch 164/400\n",
            "45/45 [==============================] - 15s 344ms/step - loss: 2.7883e-04 - val_loss: 4.3314e-04\n",
            "Epoch 165/400\n",
            "45/45 [==============================] - 15s 339ms/step - loss: 3.8617e-04 - val_loss: 3.6185e-04\n",
            "Epoch 166/400\n",
            "45/45 [==============================] - 17s 387ms/step - loss: 3.0624e-04 - val_loss: 3.5890e-04\n",
            "Epoch 167/400\n",
            "45/45 [==============================] - 15s 335ms/step - loss: 3.1304e-04 - val_loss: 2.9063e-04\n",
            "Epoch 168/400\n",
            "45/45 [==============================] - 15s 335ms/step - loss: 3.2394e-04 - val_loss: 3.6467e-04\n",
            "Epoch 169/400\n",
            "45/45 [==============================] - 15s 339ms/step - loss: 3.0124e-04 - val_loss: 2.2490e-04\n",
            "Epoch 170/400\n",
            "45/45 [==============================] - 16s 353ms/step - loss: 2.7392e-04 - val_loss: 3.9953e-04\n",
            "Epoch 171/400\n",
            "45/45 [==============================] - 17s 388ms/step - loss: 3.3911e-04 - val_loss: 2.7941e-04\n",
            "Epoch 172/400\n",
            "45/45 [==============================] - ETA: 0s - loss: 2.8430e-04"
          ]
        },
        {
          "output_type": "stream",
          "name": "stderr",
          "text": [
            "WARNING:absl:Found untraced functions such as lstm_cell_layer_call_fn, lstm_cell_layer_call_and_return_conditional_losses, lstm_cell_1_layer_call_fn, lstm_cell_1_layer_call_and_return_conditional_losses while saving (showing 4 of 4). These functions will not be directly callable after loading.\n",
            "WARNING:absl:<keras.layers.recurrent.LSTMCell object at 0x7fa9adc51a10> has the same name 'LSTMCell' as a built-in Keras object. Consider renaming <class 'keras.layers.recurrent.LSTMCell'> to avoid naming conflicts when loading with `tf.keras.models.load_model`. If renaming is not possible, pass the object in the `custom_objects` parameter of the load function.\n",
            "WARNING:absl:<keras.layers.recurrent.LSTMCell object at 0x7fa9ad990e50> has the same name 'LSTMCell' as a built-in Keras object. Consider renaming <class 'keras.layers.recurrent.LSTMCell'> to avoid naming conflicts when loading with `tf.keras.models.load_model`. If renaming is not possible, pass the object in the `custom_objects` parameter of the load function.\n",
            "\u001b[34m\u001b[1mwandb\u001b[0m: Adding directory to artifact (/content/wandb/run-20220919_165344-1kvrn8lk/files/model-best)... Done. 0.4s\n"
          ]
        },
        {
          "output_type": "stream",
          "name": "stdout",
          "text": [
            "\b\b\b\b\b\b\b\b\b\b\b\b\b\b\b\b\b\b\b\b\b\b\b\b\b\b\b\b\b\b\b\b\b\b\b\b\b\b\b\b\b\b\b\b\b\b\b\b\b\b\b\b\b\b\b\b\b\b\b\b\b\b\b\b\b\b\b\r45/45 [==============================] - 24s 537ms/step - loss: 2.8430e-04 - val_loss: 1.7329e-04\n",
            "Epoch 173/400\n",
            "45/45 [==============================] - 15s 343ms/step - loss: 2.6648e-04 - val_loss: 2.3652e-04\n",
            "Epoch 174/400\n",
            "45/45 [==============================] - 15s 344ms/step - loss: 2.9381e-04 - val_loss: 2.5514e-04\n",
            "Epoch 175/400\n",
            "45/45 [==============================] - 15s 336ms/step - loss: 3.5636e-04 - val_loss: 2.8241e-04\n",
            "Epoch 176/400\n",
            "45/45 [==============================] - 15s 339ms/step - loss: 2.5090e-04 - val_loss: 2.4985e-04\n",
            "Epoch 177/400\n",
            "45/45 [==============================] - 17s 387ms/step - loss: 3.0482e-04 - val_loss: 1.7907e-04\n",
            "Epoch 178/400\n",
            "45/45 [==============================] - 16s 345ms/step - loss: 2.4766e-04 - val_loss: 2.9015e-04\n",
            "Epoch 179/400\n",
            "45/45 [==============================] - 16s 353ms/step - loss: 3.0668e-04 - val_loss: 2.6858e-04\n",
            "Epoch 180/400\n",
            "45/45 [==============================] - 16s 350ms/step - loss: 2.5512e-04 - val_loss: 2.2819e-04\n",
            "Epoch 181/400\n",
            "45/45 [==============================] - 16s 352ms/step - loss: 2.7416e-04 - val_loss: 2.6018e-04\n",
            "Epoch 182/400\n",
            "45/45 [==============================] - 17s 380ms/step - loss: 2.4090e-04 - val_loss: 4.3576e-04\n",
            "Epoch 183/400\n",
            "45/45 [==============================] - 15s 337ms/step - loss: 2.8637e-04 - val_loss: 2.5106e-04\n",
            "Epoch 184/400\n",
            "45/45 [==============================] - 15s 334ms/step - loss: 2.7603e-04 - val_loss: 3.0081e-04\n",
            "Epoch 185/400\n",
            "45/45 [==============================] - 15s 342ms/step - loss: 2.7052e-04 - val_loss: 2.3024e-04\n",
            "Epoch 186/400\n",
            "45/45 [==============================] - 15s 343ms/step - loss: 2.4003e-04 - val_loss: 2.5690e-04\n",
            "Epoch 187/400\n",
            "45/45 [==============================] - 15s 341ms/step - loss: 2.5987e-04 - val_loss: 2.2683e-04\n",
            "Epoch 188/400\n",
            "45/45 [==============================] - 15s 344ms/step - loss: 2.8237e-04 - val_loss: 3.0657e-04\n",
            "Epoch 189/400\n",
            "45/45 [==============================] - 15s 342ms/step - loss: 2.7882e-04 - val_loss: 2.6920e-04\n",
            "Epoch 190/400\n",
            "45/45 [==============================] - 16s 350ms/step - loss: 2.9607e-04 - val_loss: 2.9948e-04\n",
            "Epoch 191/400\n",
            "45/45 [==============================] - 18s 393ms/step - loss: 3.2712e-04 - val_loss: 2.3864e-04\n",
            "Epoch 192/400\n",
            "45/45 [==============================] - 16s 351ms/step - loss: 2.5315e-04 - val_loss: 2.8727e-04\n",
            "Epoch 193/400\n",
            "45/45 [==============================] - 17s 388ms/step - loss: 3.1165e-04 - val_loss: 3.2818e-04\n",
            "Epoch 194/400\n",
            "45/45 [==============================] - 16s 351ms/step - loss: 3.6595e-04 - val_loss: 1.9866e-04\n",
            "Epoch 195/400\n",
            "45/45 [==============================] - 15s 330ms/step - loss: 2.4071e-04 - val_loss: 2.9320e-04\n",
            "Epoch 196/400\n",
            "45/45 [==============================] - 15s 334ms/step - loss: 2.9626e-04 - val_loss: 2.3144e-04\n",
            "Epoch 197/400\n",
            "45/45 [==============================] - 15s 335ms/step - loss: 2.5498e-04 - val_loss: 3.0571e-04\n",
            "Epoch 198/400\n",
            "45/45 [==============================] - 15s 344ms/step - loss: 2.8734e-04 - val_loss: 2.2870e-04\n",
            "Epoch 199/400\n",
            "45/45 [==============================] - 15s 336ms/step - loss: 2.3331e-04 - val_loss: 1.8801e-04\n",
            "Epoch 200/400\n",
            "45/45 [==============================] - 15s 337ms/step - loss: 2.7247e-04 - val_loss: 2.2193e-04\n",
            "Epoch 201/400\n",
            "45/45 [==============================] - 15s 337ms/step - loss: 2.6722e-04 - val_loss: 2.4862e-04\n",
            "Epoch 202/400\n",
            "45/45 [==============================] - 17s 383ms/step - loss: 2.9036e-04 - val_loss: 2.7338e-04\n",
            "Epoch 203/400\n",
            "45/45 [==============================] - 15s 332ms/step - loss: 2.9288e-04 - val_loss: 2.4442e-04\n",
            "Epoch 204/400\n",
            "45/45 [==============================] - 17s 387ms/step - loss: 3.1605e-04 - val_loss: 3.0130e-04\n",
            "Epoch 205/400\n",
            "45/45 [==============================] - 15s 337ms/step - loss: 2.4667e-04 - val_loss: 4.3292e-04\n",
            "Epoch 206/400\n",
            "45/45 [==============================] - 15s 337ms/step - loss: 2.5237e-04 - val_loss: 1.9417e-04\n",
            "Epoch 207/400\n",
            "45/45 [==============================] - 15s 337ms/step - loss: 2.3523e-04 - val_loss: 1.9824e-04\n",
            "Epoch 208/400\n",
            "45/45 [==============================] - 15s 332ms/step - loss: 2.8937e-04 - val_loss: 3.2161e-04\n",
            "Epoch 209/400\n",
            "45/45 [==============================] - 15s 342ms/step - loss: 2.8226e-04 - val_loss: 2.7894e-04\n",
            "Epoch 210/400\n",
            "45/45 [==============================] - 15s 344ms/step - loss: 2.6107e-04 - val_loss: 2.2687e-04\n",
            "Epoch 211/400\n",
            "45/45 [==============================] - 15s 337ms/step - loss: 2.1454e-04 - val_loss: 2.7480e-04\n",
            "Epoch 212/400\n",
            "45/45 [==============================] - 15s 338ms/step - loss: 2.2956e-04 - val_loss: 2.8773e-04\n",
            "Epoch 213/400\n",
            "45/45 [==============================] - 16s 365ms/step - loss: 2.9090e-04 - val_loss: 2.7717e-04\n",
            "Epoch 214/400\n",
            "45/45 [==============================] - 16s 355ms/step - loss: 2.6693e-04 - val_loss: 3.1403e-04\n",
            "Epoch 215/400\n",
            "45/45 [==============================] - 16s 348ms/step - loss: 2.4031e-04 - val_loss: 2.5475e-04\n",
            "Epoch 216/400\n",
            "45/45 [==============================] - 17s 373ms/step - loss: 2.3275e-04 - val_loss: 2.2606e-04\n",
            "Epoch 217/400\n",
            "45/45 [==============================] - 15s 334ms/step - loss: 2.6247e-04 - val_loss: 4.0898e-04\n",
            "Epoch 218/400\n",
            "45/45 [==============================] - 15s 338ms/step - loss: 2.4820e-04 - val_loss: 3.4695e-04\n",
            "Epoch 219/400\n",
            "45/45 [==============================] - 15s 337ms/step - loss: 2.5651e-04 - val_loss: 1.7461e-04\n",
            "Epoch 220/400\n",
            "45/45 [==============================] - 15s 335ms/step - loss: 2.7884e-04 - val_loss: 2.4652e-04\n",
            "Epoch 221/400\n",
            "45/45 [==============================] - 15s 336ms/step - loss: 2.6847e-04 - val_loss: 2.0630e-04\n",
            "Epoch 222/400\n",
            "45/45 [==============================] - 15s 340ms/step - loss: 2.6435e-04 - val_loss: 3.0381e-04\n",
            "Epoch 223/400\n",
            "45/45 [==============================] - 15s 334ms/step - loss: 2.4542e-04 - val_loss: 2.0504e-04\n",
            "Epoch 224/400\n",
            "45/45 [==============================] - 15s 343ms/step - loss: 3.0003e-04 - val_loss: 2.3135e-04\n",
            "Epoch 225/400\n",
            "45/45 [==============================] - 18s 391ms/step - loss: 2.6430e-04 - val_loss: 1.7369e-04\n",
            "Epoch 226/400\n",
            "45/45 [==============================] - 15s 336ms/step - loss: 2.3837e-04 - val_loss: 2.4019e-04\n",
            "Epoch 227/400\n",
            "45/45 [==============================] - 17s 389ms/step - loss: 2.3155e-04 - val_loss: 2.6087e-04\n",
            "Epoch 228/400\n",
            "45/45 [==============================] - 15s 338ms/step - loss: 2.3086e-04 - val_loss: 1.9012e-04\n",
            "Epoch 229/400\n",
            "45/45 [==============================] - 15s 333ms/step - loss: 2.4755e-04 - val_loss: 2.3417e-04\n",
            "Epoch 230/400\n",
            "45/45 [==============================] - 15s 341ms/step - loss: 2.3251e-04 - val_loss: 2.6001e-04\n",
            "Epoch 231/400\n",
            "45/45 [==============================] - 15s 335ms/step - loss: 2.7821e-04 - val_loss: 3.3423e-04\n",
            "Epoch 232/400\n",
            "45/45 [==============================] - 15s 338ms/step - loss: 2.8433e-04 - val_loss: 1.9075e-04\n",
            "Epoch 233/400\n",
            "45/45 [==============================] - 15s 340ms/step - loss: 2.5457e-04 - val_loss: 2.4579e-04\n",
            "Epoch 234/400\n",
            "45/45 [==============================] - 16s 352ms/step - loss: 2.2814e-04 - val_loss: 1.7402e-04\n",
            "Epoch 235/400\n",
            "45/45 [==============================] - 16s 359ms/step - loss: 2.2349e-04 - val_loss: 2.2378e-04\n",
            "Epoch 236/400\n",
            "45/45 [==============================] - 18s 397ms/step - loss: 2.2762e-04 - val_loss: 2.6042e-04\n",
            "Epoch 237/400\n",
            "45/45 [==============================] - 15s 342ms/step - loss: 3.3046e-04 - val_loss: 2.9653e-04\n",
            "Epoch 238/400\n",
            "45/45 [==============================] - 17s 383ms/step - loss: 2.4718e-04 - val_loss: 2.1427e-04\n",
            "Epoch 239/400\n",
            "45/45 [==============================] - 15s 339ms/step - loss: 2.7246e-04 - val_loss: 2.7672e-04\n",
            "Epoch 240/400\n",
            "45/45 [==============================] - 15s 339ms/step - loss: 2.3393e-04 - val_loss: 2.5496e-04\n",
            "Epoch 241/400\n",
            "45/45 [==============================] - 15s 334ms/step - loss: 2.4777e-04 - val_loss: 2.6906e-04\n",
            "Epoch 242/400\n",
            "45/45 [==============================] - 15s 336ms/step - loss: 2.9255e-04 - val_loss: 2.8007e-04\n",
            "Epoch 243/400\n",
            "45/45 [==============================] - 16s 347ms/step - loss: 2.4223e-04 - val_loss: 2.9084e-04\n",
            "Epoch 244/400\n",
            "45/45 [==============================] - 16s 350ms/step - loss: 2.3230e-04 - val_loss: 2.0219e-04\n",
            "Epoch 245/400\n",
            "45/45 [==============================] - 16s 346ms/step - loss: 2.0953e-04 - val_loss: 2.0486e-04\n",
            "Epoch 246/400\n",
            "45/45 [==============================] - 15s 333ms/step - loss: 2.2344e-04 - val_loss: 3.2401e-04\n",
            "Epoch 247/400\n",
            "45/45 [==============================] - 17s 383ms/step - loss: 2.2342e-04 - val_loss: 2.2807e-04\n",
            "Epoch 248/400\n",
            "45/45 [==============================] - 15s 333ms/step - loss: 2.1095e-04 - val_loss: 2.4733e-04\n",
            "Epoch 249/400\n",
            "45/45 [==============================] - 17s 389ms/step - loss: 2.4160e-04 - val_loss: 2.2754e-04\n",
            "Epoch 250/400\n",
            "45/45 [==============================] - 15s 339ms/step - loss: 2.4193e-04 - val_loss: 2.7967e-04\n",
            "Epoch 251/400\n",
            "45/45 [==============================] - 16s 352ms/step - loss: 2.7617e-04 - val_loss: 2.2848e-04\n",
            "Epoch 252/400\n",
            "45/45 [==============================] - 16s 351ms/step - loss: 2.4624e-04 - val_loss: 2.7421e-04\n",
            "Epoch 253/400\n",
            "45/45 [==============================] - 15s 343ms/step - loss: 2.8332e-04 - val_loss: 3.5338e-04\n",
            "Epoch 254/400\n",
            "45/45 [==============================] - 15s 337ms/step - loss: 2.5666e-04 - val_loss: 1.8649e-04\n",
            "Epoch 255/400\n",
            "45/45 [==============================] - 15s 337ms/step - loss: 2.3136e-04 - val_loss: 2.0006e-04\n",
            "Epoch 256/400\n",
            "45/45 [==============================] - 15s 336ms/step - loss: 2.1539e-04 - val_loss: 1.9038e-04\n",
            "Epoch 257/400\n",
            "45/45 [==============================] - 15s 335ms/step - loss: 2.1642e-04 - val_loss: 2.0348e-04\n",
            "Epoch 258/400\n",
            "45/45 [==============================] - 17s 381ms/step - loss: 2.4279e-04 - val_loss: 2.4902e-04\n",
            "Epoch 259/400\n",
            "45/45 [==============================] - 15s 331ms/step - loss: 2.5459e-04 - val_loss: 1.9951e-04\n",
            "Epoch 260/400\n",
            "45/45 [==============================] - 17s 380ms/step - loss: 2.3139e-04 - val_loss: 2.8870e-04\n",
            "Epoch 261/400\n",
            "45/45 [==============================] - 15s 333ms/step - loss: 2.5191e-04 - val_loss: 2.3914e-04\n",
            "Epoch 262/400\n",
            "45/45 [==============================] - 15s 334ms/step - loss: 2.2437e-04 - val_loss: 1.8185e-04\n",
            "Epoch 263/400\n",
            "45/45 [==============================] - ETA: 0s - loss: 2.0131e-04"
          ]
        },
        {
          "output_type": "stream",
          "name": "stderr",
          "text": [
            "WARNING:absl:Found untraced functions such as lstm_cell_layer_call_fn, lstm_cell_layer_call_and_return_conditional_losses, lstm_cell_1_layer_call_fn, lstm_cell_1_layer_call_and_return_conditional_losses while saving (showing 4 of 4). These functions will not be directly callable after loading.\n",
            "WARNING:absl:<keras.layers.recurrent.LSTMCell object at 0x7fa9adc51a10> has the same name 'LSTMCell' as a built-in Keras object. Consider renaming <class 'keras.layers.recurrent.LSTMCell'> to avoid naming conflicts when loading with `tf.keras.models.load_model`. If renaming is not possible, pass the object in the `custom_objects` parameter of the load function.\n",
            "WARNING:absl:<keras.layers.recurrent.LSTMCell object at 0x7fa9ad990e50> has the same name 'LSTMCell' as a built-in Keras object. Consider renaming <class 'keras.layers.recurrent.LSTMCell'> to avoid naming conflicts when loading with `tf.keras.models.load_model`. If renaming is not possible, pass the object in the `custom_objects` parameter of the load function.\n",
            "\u001b[34m\u001b[1mwandb\u001b[0m: Adding directory to artifact (/content/wandb/run-20220919_165344-1kvrn8lk/files/model-best)... Done. 0.3s\n"
          ]
        },
        {
          "output_type": "stream",
          "name": "stdout",
          "text": [
            "\b\b\b\b\b\b\b\b\b\b\b\b\b\b\b\b\b\b\b\b\b\b\b\b\b\b\b\b\b\b\b\b\b\b\b\b\b\b\b\b\b\b\b\b\b\b\b\b\b\b\b\b\b\b\b\b\b\b\b\b\b\b\b\b\b\b\b\r45/45 [==============================] - 25s 555ms/step - loss: 2.0131e-04 - val_loss: 1.6554e-04\n",
            "Epoch 264/400\n",
            "45/45 [==============================] - 15s 331ms/step - loss: 2.2460e-04 - val_loss: 2.3481e-04\n",
            "Epoch 265/400\n",
            "45/45 [==============================] - 15s 329ms/step - loss: 2.8401e-04 - val_loss: 2.3935e-04\n",
            "Epoch 266/400\n",
            "45/45 [==============================] - 15s 334ms/step - loss: 2.3572e-04 - val_loss: 3.2363e-04\n",
            "Epoch 267/400\n",
            "45/45 [==============================] - 15s 343ms/step - loss: 2.4543e-04 - val_loss: 2.3607e-04\n",
            "Epoch 268/400\n",
            "45/45 [==============================] - 18s 398ms/step - loss: 2.3629e-04 - val_loss: 2.2187e-04\n",
            "Epoch 269/400\n",
            "45/45 [==============================] - 16s 357ms/step - loss: 2.8279e-04 - val_loss: 2.5932e-04\n",
            "Epoch 270/400\n",
            "45/45 [==============================] - 17s 388ms/step - loss: 2.5817e-04 - val_loss: 2.0950e-04\n",
            "Epoch 271/400\n",
            "45/45 [==============================] - 16s 341ms/step - loss: 2.4167e-04 - val_loss: 1.8792e-04\n",
            "Epoch 272/400\n",
            "45/45 [==============================] - 16s 345ms/step - loss: 2.0201e-04 - val_loss: 2.4410e-04\n",
            "Epoch 273/400\n",
            "45/45 [==============================] - 15s 343ms/step - loss: 2.1155e-04 - val_loss: 2.7203e-04\n",
            "Epoch 274/400\n",
            "45/45 [==============================] - 16s 348ms/step - loss: 2.5645e-04 - val_loss: 2.8139e-04\n",
            "Epoch 275/400\n",
            "45/45 [==============================] - 16s 359ms/step - loss: 2.7309e-04 - val_loss: 2.3209e-04\n",
            "Epoch 276/400\n",
            "45/45 [==============================] - 16s 351ms/step - loss: 2.2373e-04 - val_loss: 2.0157e-04\n",
            "Epoch 277/400\n",
            "45/45 [==============================] - 16s 355ms/step - loss: 2.3822e-04 - val_loss: 2.6173e-04\n",
            "Epoch 278/400\n",
            "45/45 [==============================] - 16s 347ms/step - loss: 2.3743e-04 - val_loss: 2.1882e-04\n",
            "Epoch 279/400\n",
            "45/45 [==============================] - 18s 390ms/step - loss: 2.2601e-04 - val_loss: 2.2670e-04\n",
            "Epoch 280/400\n",
            "45/45 [==============================] - 16s 351ms/step - loss: 2.1848e-04 - val_loss: 3.1752e-04\n",
            "Epoch 281/400\n",
            "45/45 [==============================] - 18s 404ms/step - loss: 2.4407e-04 - val_loss: 1.9947e-04\n",
            "Epoch 282/400\n",
            "45/45 [==============================] - 16s 350ms/step - loss: 2.3601e-04 - val_loss: 2.8290e-04\n",
            "Epoch 283/400\n",
            "45/45 [==============================] - 16s 355ms/step - loss: 2.3270e-04 - val_loss: 1.9081e-04\n",
            "Epoch 284/400\n",
            "45/45 [==============================] - 16s 356ms/step - loss: 2.2132e-04 - val_loss: 2.4020e-04\n",
            "Epoch 285/400\n",
            "45/45 [==============================] - 16s 359ms/step - loss: 2.2172e-04 - val_loss: 2.4480e-04\n",
            "Epoch 286/400\n",
            "45/45 [==============================] - 16s 352ms/step - loss: 2.4887e-04 - val_loss: 2.2858e-04\n",
            "Epoch 287/400\n",
            "45/45 [==============================] - 16s 355ms/step - loss: 2.7530e-04 - val_loss: 1.7955e-04\n",
            "Epoch 288/400\n",
            "45/45 [==============================] - 16s 352ms/step - loss: 2.0922e-04 - val_loss: 1.8234e-04\n",
            "Epoch 289/400\n",
            "45/45 [==============================] - 16s 357ms/step - loss: 2.0630e-04 - val_loss: 1.9768e-04\n",
            "Epoch 290/400\n",
            "45/45 [==============================] - 18s 395ms/step - loss: 2.2386e-04 - val_loss: 2.2128e-04\n",
            "Epoch 291/400\n",
            "45/45 [==============================] - 16s 355ms/step - loss: 2.1133e-04 - val_loss: 2.6123e-04\n",
            "Epoch 292/400\n",
            "45/45 [==============================] - 18s 396ms/step - loss: 2.3897e-04 - val_loss: 2.5643e-04\n",
            "Epoch 293/400\n",
            "45/45 [==============================] - 16s 358ms/step - loss: 2.1739e-04 - val_loss: 2.0545e-04\n",
            "Epoch 294/400\n",
            "45/45 [==============================] - 16s 353ms/step - loss: 2.1790e-04 - val_loss: 2.3000e-04\n",
            "Epoch 295/400\n",
            "45/45 [==============================] - 16s 358ms/step - loss: 2.1585e-04 - val_loss: 2.3447e-04\n",
            "Epoch 296/400\n",
            "45/45 [==============================] - 16s 360ms/step - loss: 2.1404e-04 - val_loss: 1.7922e-04\n",
            "Epoch 297/400\n",
            "45/45 [==============================] - 16s 346ms/step - loss: 2.5281e-04 - val_loss: 2.3077e-04\n",
            "Epoch 298/400\n",
            "45/45 [==============================] - 15s 344ms/step - loss: 2.1531e-04 - val_loss: 1.8857e-04\n",
            "Epoch 299/400\n",
            "45/45 [==============================] - 15s 342ms/step - loss: 2.4083e-04 - val_loss: 3.1565e-04\n",
            "Epoch 300/400\n",
            "45/45 [==============================] - 16s 363ms/step - loss: 2.4509e-04 - val_loss: 2.1874e-04\n",
            "Epoch 301/400\n",
            "45/45 [==============================] - 17s 383ms/step - loss: 2.1223e-04 - val_loss: 2.6981e-04\n",
            "Epoch 302/400\n",
            "45/45 [==============================] - 19s 418ms/step - loss: 2.3616e-04 - val_loss: 2.6885e-04\n",
            "Epoch 303/400\n",
            "45/45 [==============================] - 16s 345ms/step - loss: 2.0608e-04 - val_loss: 2.1169e-04\n",
            "Epoch 304/400\n",
            "45/45 [==============================] - 15s 338ms/step - loss: 2.1674e-04 - val_loss: 2.0251e-04\n",
            "Epoch 305/400\n",
            "45/45 [==============================] - 15s 343ms/step - loss: 2.2916e-04 - val_loss: 2.5472e-04\n",
            "Epoch 306/400\n",
            "45/45 [==============================] - 15s 343ms/step - loss: 2.2330e-04 - val_loss: 1.8769e-04\n",
            "Epoch 307/400\n",
            "45/45 [==============================] - 15s 338ms/step - loss: 2.1251e-04 - val_loss: 1.9296e-04\n",
            "Epoch 308/400\n",
            "45/45 [==============================] - 15s 340ms/step - loss: 2.0636e-04 - val_loss: 2.4207e-04\n",
            "Epoch 309/400\n",
            "45/45 [==============================] - 16s 346ms/step - loss: 2.4479e-04 - val_loss: 2.1157e-04\n",
            "Epoch 310/400\n",
            "45/45 [==============================] - 16s 347ms/step - loss: 2.2995e-04 - val_loss: 2.3900e-04\n",
            "Epoch 311/400\n",
            "45/45 [==============================] - 17s 387ms/step - loss: 2.4378e-04 - val_loss: 2.4592e-04\n",
            "Epoch 312/400\n",
            "45/45 [==============================] - 16s 349ms/step - loss: 2.1954e-04 - val_loss: 2.0902e-04\n",
            "Epoch 313/400\n",
            "45/45 [==============================] - 17s 382ms/step - loss: 1.9970e-04 - val_loss: 1.6921e-04\n",
            "Epoch 314/400\n",
            "45/45 [==============================] - 15s 332ms/step - loss: 2.0314e-04 - val_loss: 2.6380e-04\n",
            "Epoch 315/400\n",
            "45/45 [==============================] - 15s 335ms/step - loss: 2.1427e-04 - val_loss: 2.5597e-04\n",
            "Epoch 316/400\n",
            "45/45 [==============================] - 15s 331ms/step - loss: 2.2106e-04 - val_loss: 1.9432e-04\n",
            "Epoch 317/400\n",
            "45/45 [==============================] - 15s 337ms/step - loss: 2.3927e-04 - val_loss: 1.9563e-04\n",
            "Epoch 318/400\n",
            "45/45 [==============================] - 15s 332ms/step - loss: 2.1868e-04 - val_loss: 2.4311e-04\n",
            "Epoch 319/400\n",
            "45/45 [==============================] - 15s 335ms/step - loss: 2.5624e-04 - val_loss: 1.9519e-04\n",
            "Epoch 320/400\n",
            "45/45 [==============================] - 15s 334ms/step - loss: 2.1860e-04 - val_loss: 2.7880e-04\n",
            "Epoch 321/400\n",
            "45/45 [==============================] - 15s 341ms/step - loss: 2.3664e-04 - val_loss: 2.1352e-04\n",
            "Epoch 322/400\n",
            "45/45 [==============================] - 16s 357ms/step - loss: 2.2344e-04 - val_loss: 3.4372e-04\n",
            "Epoch 323/400\n",
            "45/45 [==============================] - 17s 365ms/step - loss: 2.2608e-04 - val_loss: 2.1212e-04\n",
            "Epoch 324/400\n",
            "45/45 [==============================] - 17s 382ms/step - loss: 1.9948e-04 - val_loss: 2.5476e-04\n",
            "Epoch 325/400\n",
            "45/45 [==============================] - 15s 337ms/step - loss: 2.3636e-04 - val_loss: 2.4235e-04\n",
            "Epoch 326/400\n",
            "45/45 [==============================] - 15s 335ms/step - loss: 1.9987e-04 - val_loss: 2.4960e-04\n",
            "Epoch 327/400\n",
            "45/45 [==============================] - 15s 337ms/step - loss: 1.9299e-04 - val_loss: 2.3474e-04\n",
            "Epoch 328/400\n",
            "45/45 [==============================] - 15s 329ms/step - loss: 2.4776e-04 - val_loss: 1.7670e-04\n",
            "Epoch 329/400\n",
            "45/45 [==============================] - 15s 332ms/step - loss: 2.3075e-04 - val_loss: 2.3806e-04\n",
            "Epoch 330/400\n",
            "45/45 [==============================] - 15s 335ms/step - loss: 2.5524e-04 - val_loss: 2.2082e-04\n",
            "Epoch 331/400\n",
            "45/45 [==============================] - 15s 338ms/step - loss: 2.0399e-04 - val_loss: 2.1034e-04\n",
            "Epoch 332/400\n",
            "45/45 [==============================] - 15s 338ms/step - loss: 2.2268e-04 - val_loss: 1.7822e-04\n",
            "Epoch 333/400\n",
            "45/45 [==============================] - 16s 345ms/step - loss: 2.1486e-04 - val_loss: 2.4736e-04\n",
            "Epoch 334/400\n",
            "45/45 [==============================] - 17s 389ms/step - loss: 1.9983e-04 - val_loss: 1.8371e-04\n",
            "Epoch 335/400\n",
            "45/45 [==============================] - 17s 386ms/step - loss: 2.1555e-04 - val_loss: 2.1667e-04\n",
            "Epoch 336/400\n",
            "45/45 [==============================] - 15s 344ms/step - loss: 2.2064e-04 - val_loss: 1.7747e-04\n",
            "Epoch 337/400\n",
            "45/45 [==============================] - 16s 361ms/step - loss: 2.1959e-04 - val_loss: 3.0210e-04\n",
            "Epoch 338/400\n",
            "45/45 [==============================] - 16s 358ms/step - loss: 2.4830e-04 - val_loss: 2.4741e-04\n",
            "Epoch 339/400\n",
            "45/45 [==============================] - 16s 352ms/step - loss: 2.0693e-04 - val_loss: 2.4846e-04\n",
            "Epoch 340/400\n",
            "45/45 [==============================] - 15s 339ms/step - loss: 2.0301e-04 - val_loss: 1.7357e-04\n",
            "Epoch 341/400\n",
            "45/45 [==============================] - 15s 340ms/step - loss: 1.9562e-04 - val_loss: 2.3002e-04\n",
            "Epoch 342/400\n",
            "45/45 [==============================] - 15s 339ms/step - loss: 2.1421e-04 - val_loss: 1.8267e-04\n",
            "Epoch 343/400\n",
            "45/45 [==============================] - 15s 340ms/step - loss: 2.1969e-04 - val_loss: 2.2706e-04\n",
            "Epoch 344/400\n",
            "45/45 [==============================] - ETA: 0s - loss: 2.2253e-04"
          ]
        },
        {
          "output_type": "stream",
          "name": "stderr",
          "text": [
            "WARNING:absl:Found untraced functions such as lstm_cell_layer_call_fn, lstm_cell_layer_call_and_return_conditional_losses, lstm_cell_1_layer_call_fn, lstm_cell_1_layer_call_and_return_conditional_losses while saving (showing 4 of 4). These functions will not be directly callable after loading.\n",
            "WARNING:absl:<keras.layers.recurrent.LSTMCell object at 0x7fa9adc51a10> has the same name 'LSTMCell' as a built-in Keras object. Consider renaming <class 'keras.layers.recurrent.LSTMCell'> to avoid naming conflicts when loading with `tf.keras.models.load_model`. If renaming is not possible, pass the object in the `custom_objects` parameter of the load function.\n",
            "WARNING:absl:<keras.layers.recurrent.LSTMCell object at 0x7fa9ad990e50> has the same name 'LSTMCell' as a built-in Keras object. Consider renaming <class 'keras.layers.recurrent.LSTMCell'> to avoid naming conflicts when loading with `tf.keras.models.load_model`. If renaming is not possible, pass the object in the `custom_objects` parameter of the load function.\n",
            "\u001b[34m\u001b[1mwandb\u001b[0m: Adding directory to artifact (/content/wandb/run-20220919_165344-1kvrn8lk/files/model-best)... Done. 0.3s\n"
          ]
        },
        {
          "output_type": "stream",
          "name": "stdout",
          "text": [
            "\b\b\b\b\b\b\b\b\b\b\b\b\b\b\b\b\b\b\b\b\b\b\b\b\b\b\b\b\b\b\b\b\b\b\b\b\b\b\b\b\b\b\b\b\b\b\b\b\b\b\b\b\b\b\b\b\b\b\b\b\b\b\b\b\b\b\b\r45/45 [==============================] - 27s 596ms/step - loss: 2.2253e-04 - val_loss: 1.6014e-04\n",
            "Epoch 345/400\n",
            "45/45 [==============================] - 18s 404ms/step - loss: 2.0367e-04 - val_loss: 2.1423e-04\n",
            "Epoch 346/400\n",
            "45/45 [==============================] - 16s 342ms/step - loss: 2.1553e-04 - val_loss: 2.0937e-04\n",
            "Epoch 347/400\n",
            "45/45 [==============================] - 15s 332ms/step - loss: 2.1070e-04 - val_loss: 2.1898e-04\n",
            "Epoch 348/400\n",
            "45/45 [==============================] - 15s 333ms/step - loss: 2.2189e-04 - val_loss: 1.8030e-04\n",
            "Epoch 349/400\n",
            "45/45 [==============================] - 15s 335ms/step - loss: 2.3170e-04 - val_loss: 2.3436e-04\n",
            "Epoch 350/400\n",
            "45/45 [==============================] - 15s 330ms/step - loss: 2.1495e-04 - val_loss: 2.4182e-04\n",
            "Epoch 351/400\n",
            "45/45 [==============================] - 15s 335ms/step - loss: 2.1741e-04 - val_loss: 1.9901e-04\n",
            "Epoch 352/400\n",
            "45/45 [==============================] - 15s 332ms/step - loss: 2.1204e-04 - val_loss: 2.5633e-04\n",
            "Epoch 353/400\n",
            "45/45 [==============================] - 15s 337ms/step - loss: 2.0145e-04 - val_loss: 2.1095e-04\n",
            "Epoch 354/400\n",
            "45/45 [==============================] - 15s 329ms/step - loss: 2.0397e-04 - val_loss: 2.0033e-04\n",
            "Epoch 355/400\n",
            "45/45 [==============================] - 17s 380ms/step - loss: 2.1315e-04 - val_loss: 1.9737e-04\n",
            "Epoch 356/400\n",
            "45/45 [==============================] - 17s 390ms/step - loss: 2.0697e-04 - val_loss: 1.9481e-04\n",
            "Epoch 357/400\n",
            "45/45 [==============================] - 16s 346ms/step - loss: 2.4217e-04 - val_loss: 2.3116e-04\n",
            "Epoch 358/400\n",
            "45/45 [==============================] - 15s 333ms/step - loss: 2.1212e-04 - val_loss: 2.4301e-04\n",
            "Epoch 359/400\n",
            "45/45 [==============================] - 15s 333ms/step - loss: 1.8964e-04 - val_loss: 2.1447e-04\n",
            "Epoch 360/400\n",
            "45/45 [==============================] - 15s 328ms/step - loss: 2.2431e-04 - val_loss: 2.7593e-04\n",
            "Epoch 361/400\n",
            "45/45 [==============================] - 15s 327ms/step - loss: 2.0787e-04 - val_loss: 1.7019e-04\n",
            "Epoch 362/400\n",
            "45/45 [==============================] - 15s 335ms/step - loss: 1.9595e-04 - val_loss: 1.6464e-04\n",
            "Epoch 363/400\n",
            "45/45 [==============================] - 15s 332ms/step - loss: 2.0167e-04 - val_loss: 2.5805e-04\n",
            "Epoch 364/400\n",
            "45/45 [==============================] - 16s 346ms/step - loss: 2.0294e-04 - val_loss: 1.7802e-04\n",
            "Epoch 365/400\n",
            "45/45 [==============================] - 15s 341ms/step - loss: 2.1483e-04 - val_loss: 1.6232e-04\n",
            "Epoch 366/400\n",
            "45/45 [==============================] - 17s 386ms/step - loss: 2.0737e-04 - val_loss: 1.9557e-04\n",
            "Epoch 367/400\n",
            "45/45 [==============================] - 17s 384ms/step - loss: 2.0398e-04 - val_loss: 2.0958e-04\n",
            "Epoch 368/400\n",
            "45/45 [==============================] - 15s 333ms/step - loss: 2.1146e-04 - val_loss: 1.9973e-04\n",
            "Epoch 369/400\n",
            "45/45 [==============================] - 15s 339ms/step - loss: 2.1167e-04 - val_loss: 2.0007e-04\n",
            "Epoch 370/400\n",
            "45/45 [==============================] - 15s 334ms/step - loss: 1.8801e-04 - val_loss: 2.2942e-04\n",
            "Epoch 371/400\n",
            "45/45 [==============================] - 15s 331ms/step - loss: 2.6470e-04 - val_loss: 3.2218e-04\n",
            "Epoch 372/400\n",
            "45/45 [==============================] - 15s 331ms/step - loss: 2.3843e-04 - val_loss: 2.0153e-04\n",
            "Epoch 373/400\n",
            "45/45 [==============================] - 15s 333ms/step - loss: 1.9583e-04 - val_loss: 1.8236e-04\n",
            "Epoch 374/400\n",
            "45/45 [==============================] - 15s 339ms/step - loss: 1.9110e-04 - val_loss: 1.9552e-04\n",
            "Epoch 375/400\n",
            "45/45 [==============================] - 15s 328ms/step - loss: 1.8942e-04 - val_loss: 2.1483e-04\n",
            "Epoch 376/400\n",
            "45/45 [==============================] - 15s 337ms/step - loss: 2.1359e-04 - val_loss: 2.5195e-04\n",
            "Epoch 377/400\n",
            "45/45 [==============================] - 15s 333ms/step - loss: 2.0882e-04 - val_loss: 1.8184e-04\n",
            "Epoch 378/400\n",
            "45/45 [==============================] - 17s 383ms/step - loss: 2.0035e-04 - val_loss: 2.0129e-04\n",
            "Epoch 379/400\n",
            "45/45 [==============================] - 17s 368ms/step - loss: 2.0319e-04 - val_loss: 1.7984e-04\n",
            "Epoch 380/400\n",
            "45/45 [==============================] - 15s 326ms/step - loss: 1.9677e-04 - val_loss: 2.0394e-04\n",
            "Epoch 381/400\n",
            "45/45 [==============================] - 15s 323ms/step - loss: 2.3532e-04 - val_loss: 3.0407e-04\n",
            "Epoch 382/400\n",
            "45/45 [==============================] - 15s 328ms/step - loss: 2.2920e-04 - val_loss: 1.9316e-04\n",
            "Epoch 383/400\n",
            "45/45 [==============================] - 15s 330ms/step - loss: 2.0323e-04 - val_loss: 2.1135e-04\n",
            "Epoch 384/400\n",
            "45/45 [==============================] - ETA: 0s - loss: 1.9192e-04"
          ]
        },
        {
          "output_type": "stream",
          "name": "stderr",
          "text": [
            "WARNING:absl:Found untraced functions such as lstm_cell_layer_call_fn, lstm_cell_layer_call_and_return_conditional_losses, lstm_cell_1_layer_call_fn, lstm_cell_1_layer_call_and_return_conditional_losses while saving (showing 4 of 4). These functions will not be directly callable after loading.\n",
            "WARNING:absl:<keras.layers.recurrent.LSTMCell object at 0x7fa9adc51a10> has the same name 'LSTMCell' as a built-in Keras object. Consider renaming <class 'keras.layers.recurrent.LSTMCell'> to avoid naming conflicts when loading with `tf.keras.models.load_model`. If renaming is not possible, pass the object in the `custom_objects` parameter of the load function.\n",
            "WARNING:absl:<keras.layers.recurrent.LSTMCell object at 0x7fa9ad990e50> has the same name 'LSTMCell' as a built-in Keras object. Consider renaming <class 'keras.layers.recurrent.LSTMCell'> to avoid naming conflicts when loading with `tf.keras.models.load_model`. If renaming is not possible, pass the object in the `custom_objects` parameter of the load function.\n",
            "\u001b[34m\u001b[1mwandb\u001b[0m: Adding directory to artifact (/content/wandb/run-20220919_165344-1kvrn8lk/files/model-best)... Done. 0.4s\n"
          ]
        },
        {
          "output_type": "stream",
          "name": "stdout",
          "text": [
            "\b\b\b\b\b\b\b\b\b\b\b\b\b\b\b\b\b\b\b\b\b\b\b\b\b\b\b\b\b\b\b\b\b\b\b\b\b\b\b\b\b\b\b\b\b\b\b\b\b\b\b\b\b\b\b\b\b\b\b\b\b\b\b\b\b\b\b\r45/45 [==============================] - 26s 573ms/step - loss: 1.9192e-04 - val_loss: 1.5960e-04\n",
            "Epoch 385/400\n",
            "45/45 [==============================] - 15s 338ms/step - loss: 1.8317e-04 - val_loss: 1.7492e-04\n",
            "Epoch 386/400\n",
            "45/45 [==============================] - 16s 346ms/step - loss: 1.8514e-04 - val_loss: 2.1865e-04\n",
            "Epoch 387/400\n",
            "45/45 [==============================] - 15s 336ms/step - loss: 2.2366e-04 - val_loss: 2.8929e-04\n",
            "Epoch 388/400\n",
            "45/45 [==============================] - 17s 386ms/step - loss: 2.1333e-04 - val_loss: 1.8531e-04\n",
            "Epoch 389/400\n",
            "45/45 [==============================] - 17s 382ms/step - loss: 1.9702e-04 - val_loss: 2.4973e-04\n",
            "Epoch 390/400\n",
            "45/45 [==============================] - 15s 341ms/step - loss: 1.9084e-04 - val_loss: 2.0235e-04\n",
            "Epoch 391/400\n",
            "45/45 [==============================] - 15s 341ms/step - loss: 1.9863e-04 - val_loss: 2.1925e-04\n",
            "Epoch 392/400\n",
            "45/45 [==============================] - 15s 343ms/step - loss: 2.0014e-04 - val_loss: 1.7778e-04\n",
            "Epoch 393/400\n",
            "45/45 [==============================] - 16s 347ms/step - loss: 1.8764e-04 - val_loss: 1.6544e-04\n",
            "Epoch 394/400\n",
            "45/45 [==============================] - 16s 347ms/step - loss: 1.9981e-04 - val_loss: 1.7516e-04\n",
            "Epoch 395/400\n",
            "45/45 [==============================] - 15s 342ms/step - loss: 2.0625e-04 - val_loss: 2.3392e-04\n",
            "Epoch 396/400\n",
            "45/45 [==============================] - 15s 340ms/step - loss: 2.0092e-04 - val_loss: 2.1281e-04\n",
            "Epoch 397/400\n",
            "45/45 [==============================] - 15s 341ms/step - loss: 1.9149e-04 - val_loss: 2.0542e-04\n",
            "Epoch 398/400\n",
            "45/45 [==============================] - 15s 338ms/step - loss: 2.0804e-04 - val_loss: 1.7874e-04\n",
            "Epoch 399/400\n",
            "45/45 [==============================] - 17s 382ms/step - loss: 1.9179e-04 - val_loss: 2.0851e-04\n",
            "Epoch 400/400\n",
            "45/45 [==============================] - 17s 381ms/step - loss: 2.2589e-04 - val_loss: 1.9668e-04\n"
          ]
        },
        {
          "output_type": "execute_result",
          "data": {
            "text/plain": [
              "<keras.callbacks.History at 0x7fa9ada51450>"
            ]
          },
          "metadata": {},
          "execution_count": 22
        }
      ]
    },
    {
      "cell_type": "code",
      "source": [
        "# se guara el modelo ya entrenado\n",
        "model.save('/content/drive/MyDrive/ProyectoSL2/data/models/LSTM_1c_512u_400ep')"
      ],
      "metadata": {
        "id": "ntTekffoiP1g",
        "colab": {
          "base_uri": "https://localhost:8080/"
        },
        "outputId": "92c70f5a-b4a9-4efa-bf50-9797bd2af3cd"
      },
      "execution_count": null,
      "outputs": [
        {
          "output_type": "stream",
          "name": "stderr",
          "text": [
            "WARNING:absl:Found untraced functions such as lstm_cell_layer_call_fn, lstm_cell_layer_call_and_return_conditional_losses, lstm_cell_1_layer_call_fn, lstm_cell_1_layer_call_and_return_conditional_losses while saving (showing 4 of 4). These functions will not be directly callable after loading.\n",
            "WARNING:absl:<keras.layers.recurrent.LSTMCell object at 0x7fa9adc51a10> has the same name 'LSTMCell' as a built-in Keras object. Consider renaming <class 'keras.layers.recurrent.LSTMCell'> to avoid naming conflicts when loading with `tf.keras.models.load_model`. If renaming is not possible, pass the object in the `custom_objects` parameter of the load function.\n",
            "WARNING:absl:<keras.layers.recurrent.LSTMCell object at 0x7fa9ad990e50> has the same name 'LSTMCell' as a built-in Keras object. Consider renaming <class 'keras.layers.recurrent.LSTMCell'> to avoid naming conflicts when loading with `tf.keras.models.load_model`. If renaming is not possible, pass the object in the `custom_objects` parameter of the load function.\n"
          ]
        }
      ]
    },
    {
      "cell_type": "code",
      "source": [
        "model = tf.keras.models.load_model('/content/drive/MyDrive/ProyectoSL2/data/models/LSTM_1c_512u_400ep')"
      ],
      "metadata": {
        "id": "IEyJgZoo1uO6"
      },
      "execution_count": null,
      "outputs": []
    },
    {
      "cell_type": "markdown",
      "source": [
        "#####Metricas del modelo"
      ],
      "metadata": {
        "id": "wpIl7XEkMgyz"
      }
    },
    {
      "cell_type": "code",
      "source": [
        "score = model.evaluate(X, y, verbose=1, batch_size=8)\n",
        "\n",
        "print(\"\\n\")\n",
        "print(model.metrics_names)\n",
        "print(score)"
      ],
      "metadata": {
        "colab": {
          "base_uri": "https://localhost:8080/"
        },
        "id": "r27LvHgHstSx",
        "outputId": "500404f5-6a81-467c-dcaf-1b68a359af4a"
      },
      "execution_count": null,
      "outputs": [
        {
          "output_type": "stream",
          "name": "stdout",
          "text": [
            "222/222 [==============================] - 8s 32ms/step - loss: 1.8763e-04\n",
            "\n",
            "\n",
            "['loss']\n",
            "0.00018763278785627335\n"
          ]
        }
      ]
    },
    {
      "cell_type": "code",
      "source": [
        "results = model.predict(X) #predicción del modelo"
      ],
      "metadata": {
        "id": "-MBK2A3QtAPP"
      },
      "execution_count": null,
      "outputs": []
    },
    {
      "cell_type": "code",
      "source": [
        "results = results.reshape(results.shape[0], 12, 2)  #Redimensionamiento de datos de predicción\n"
      ],
      "metadata": {
        "id": "JTZm4CpxdAiB"
      },
      "execution_count": null,
      "outputs": []
    },
    {
      "cell_type": "markdown",
      "source": [
        "**Metricas:**\n",
        "\n",
        "**Average Displacement Error, ADE**: distancia euclidiana promedio sobre todos los puntos predichos y puntos reales de todos los peatones. \n",
        "\n",
        "**Final Displacement Error, FDE**: distancia euclideana promedio entre la posición predicha final y la posición real final de todos los peatones."
      ],
      "metadata": {
        "id": "_06NKH4QMtUm"
      }
    },
    {
      "cell_type": "code",
      "source": [
        "import math\n",
        "def average_displacement_error(pred,ground): # calculo Error de una trayectoria\n",
        " \n",
        "  e = []\n",
        " \n",
        "  for p,g in zip(pred,ground):\n",
        "    e.append( math.sqrt (((p[0] - g[0]) ** 2) + ((p[1] - g[1]) ** 2)))\n",
        " \n",
        "  return np.sum(e)/len(e),e[len(e)-1]   #ADE,FDE\n"
      ],
      "metadata": {
        "id": "FJ4_I4bbq5tB"
      },
      "execution_count": null,
      "outputs": []
    },
    {
      "cell_type": "code",
      "source": [
        "def calculate_error_batch(results, ground): #calculo de Error para todas las trayetorias\n",
        " \n",
        "  ADE = []\n",
        "  FDE = [] \n",
        " \n",
        "  for r, g in zip(results, ground):\n",
        "    a,f = average_displacement_error(r,g)\n",
        "    ADE.append(a)\n",
        "    FDE.append(f)\n",
        "    \n",
        "  return np.sum(ADE)/len(ADE),np.sum(FDE)/len(FDE)\n"
      ],
      "metadata": {
        "id": "A8LJ1OUe06hC"
      },
      "execution_count": null,
      "outputs": []
    },
    {
      "cell_type": "markdown",
      "source": [
        "#####Visualización de resultados con datos de entrenamiento"
      ],
      "metadata": {
        "id": "A3YUrsDvM7B1"
      }
    },
    {
      "cell_type": "code",
      "source": [
        "import matplotlib.pyplot as plt\n",
        "#Funcion para visualizar trayectoria\n",
        "def print_trayectoria(prev_list, ground_list, prediction_list,n):\n",
        "  prev = prev_list[n]\n",
        "  ground = ground_list[n]\n",
        "  prediction = prediction_list[n]\n",
        "  \n",
        "  prev = tf.transpose(prev,[1,0])\n",
        "  ground = tf.transpose(ground,[1,0])\n",
        "  prediction = tf.transpose(prediction,[1,0])\n",
        "\n",
        "  fig, ax =plt.subplots(1,1,figsize=(4,4))\n",
        "  ax.set_aspect('equal', adjustable='datalim')\n",
        "  ax.plot(prev[0], prev[1], '-o',color='gray',linestyle='dashed')\n",
        "\n",
        "  ax.plot(ground[0],ground[1],'-o', color='green',linestyle='dashed')\n",
        "  ax.plot(prediction[0],prediction[1],'-o', color='red',linestyle='dashed')\n",
        "  \n",
        "  plt.show()"
      ],
      "metadata": {
        "id": "qTk1TN58fKsn"
      },
      "execution_count": null,
      "outputs": []
    },
    {
      "cell_type": "markdown",
      "source": [
        "Denormalización de datos:"
      ],
      "metadata": {
        "id": "LMtZ4Ek2NFXC"
      }
    },
    {
      "cell_type": "code",
      "source": [
        "with open('/content/drive/MyDrive/ProyectoSL2/data/models/LSTM/scaler.pkl','rb') as f:\n",
        "  scaler = pkl.load(f)\n",
        "\n",
        "#redimensionamiento para tener un array en 2D y poder denormalizar X\n",
        "X_denormalized = np.array(X)\n",
        "X_denormalized = X_denormalized.reshape(X_denormalized.shape[0]*X_denormalized.shape[1],X_denormalized.shape[2])\n",
        "X_denormalized =  scaler.inverse_transform(X_denormalized)\n",
        "X_denormalized = X_denormalized.reshape(X.shape[0],X.shape[1],X.shape[2])\n",
        "\n",
        "#redimensionamiento para tener un array en 2D y poder denormalizar Y\n",
        "Y_denormalized = np.array(y)\n",
        "Y_denormalized = Y_denormalized.reshape(Y_denormalized.shape[0]*Y_denormalized.shape[1],Y_denormalized.shape[2])\n",
        "Y_denormalized =  scaler.inverse_transform(Y_denormalized)\n",
        "Y_denormalized = Y_denormalized.reshape(y.shape[0],y.shape[1],y.shape[2])\n",
        "\n",
        "#redimensionamiento para tener un array en 2D y poder denormalizar Results\n",
        "results_denormalized = np.array(results)\n",
        "results_denormalized = results_denormalized.reshape(results_denormalized.shape[0]*results_denormalized.shape[1],results_denormalized.shape[2])\n",
        "results_denormalized =  scaler.inverse_transform(results_denormalized)\n",
        "results_denormalized = results_denormalized.reshape(results.shape[0],results.shape[1],results.shape[2])\n",
        "\n"
      ],
      "metadata": {
        "id": "rAWpVObjssCp"
      },
      "execution_count": null,
      "outputs": []
    },
    {
      "cell_type": "code",
      "source": [
        "#validando dimensiones\n",
        "print(X_denormalized.shape)\n",
        "print(Y_denormalized.shape)\n",
        "print(results_denormalized.shape)"
      ],
      "metadata": {
        "colab": {
          "base_uri": "https://localhost:8080/"
        },
        "id": "XYTuO_w0sr-Z",
        "outputId": "7f793bf8-f0da-4150-cab7-22a6fa70517b"
      },
      "execution_count": null,
      "outputs": [
        {
          "output_type": "stream",
          "name": "stdout",
          "text": [
            "(1772, 8, 2)\n",
            "(1772, 12, 2)\n",
            "(1772, 12, 2)\n"
          ]
        }
      ]
    },
    {
      "cell_type": "markdown",
      "source": [
        "Ejemplo de trayectoria real vrs predicción con datos normalizados:"
      ],
      "metadata": {
        "id": "FhtQU7BNNRlh"
      }
    },
    {
      "cell_type": "code",
      "source": [
        "n=40\n",
        "print_trayectoria(X,y,results,n)\n",
        "print(average_displacement_error(results[n],y[n]))"
      ],
      "metadata": {
        "colab": {
          "base_uri": "https://localhost:8080/",
          "height": 282
        },
        "id": "EaACR1OtsrUX",
        "outputId": "7cd89de0-57fd-4790-acee-2ec68fc602e2"
      },
      "execution_count": null,
      "outputs": [
        {
          "output_type": "display_data",
          "data": {
            "text/plain": [
              "<Figure size 288x288 with 1 Axes>"
            ],
            "image/png": "[encoded data removed]"
          },
          "metadata": {
            "needs_background": "light"
          }
        },
        {
          "output_type": "stream",
          "name": "stdout",
          "text": [
            "(0.0067840856223682815, 0.007802774336704677)\n"
          ]
        }
      ]
    },
    {
      "cell_type": "markdown",
      "source": [
        "Ejemplo de trayectoria real vrs predicción con datos denormalizados y error de la muestra:"
      ],
      "metadata": {
        "id": "RuezxrbvNVcc"
      }
    },
    {
      "cell_type": "code",
      "source": [
        "n=40\n",
        "print_trayectoria(X_denormalized,Y_denormalized,results_denormalized,n)\n",
        "print(average_displacement_error(results_denormalized[n],y[n]))"
      ],
      "metadata": {
        "colab": {
          "base_uri": "https://localhost:8080/",
          "height": 282
        },
        "id": "GXg-_im1pxJI",
        "outputId": "267365ff-9101-48c7-96f3-be7b6b46deef"
      },
      "execution_count": null,
      "outputs": [
        {
          "output_type": "display_data",
          "data": {
            "text/plain": [
              "<Figure size 288x288 with 1 Axes>"
            ],
            "image/png": "[encoded data removed]"
          },
          "metadata": {
            "needs_background": "light"
          }
        },
        {
          "output_type": "stream",
          "name": "stdout",
          "text": [
            "(26.502628450943874, 24.178789073661004)\n"
          ]
        }
      ]
    },
    {
      "cell_type": "markdown",
      "source": [
        "**Error ADE, FDE del training data:**"
      ],
      "metadata": {
        "id": "GuOqjsA5NaQQ"
      }
    },
    {
      "cell_type": "code",
      "source": [
        "#calculo de error de las trayectorias ADE, FDE con datos denormalizados\n",
        "ADE_Training, FDE_Training = calculate_error_batch(results_denormalized,Y_denormalized)\n",
        "print(\"ADE:\",ADE_Training, \"FDE:\",FDE_Training)"
      ],
      "metadata": {
        "id": "54MY10xANeV-",
        "colab": {
          "base_uri": "https://localhost:8080/"
        },
        "outputId": "1fbf8ce7-e650-4b62-9e5e-1cb189b0100a"
      },
      "execution_count": null,
      "outputs": [
        {
          "output_type": "stream",
          "name": "stdout",
          "text": [
            "ADE: 0.6313444242910486 FDE: 1.1912572918064521\n"
          ]
        }
      ]
    },
    {
      "cell_type": "markdown",
      "source": [
        "#####Evaluación del modelo MLP con datos de prueba"
      ],
      "metadata": {
        "id": "oz45Tn5BNngb"
      }
    },
    {
      "cell_type": "markdown",
      "source": [
        "Extacción y carga de Test Data\n",
        "\n",
        "Test Data contiene 423 trayectorias de peatones"
      ],
      "metadata": {
        "id": "enP8NXWRNpj8"
      }
    },
    {
      "cell_type": "code",
      "source": [
        "df_test = pd.read_csv('/content/drive/MyDrive/ProyectoSL2/data/standford-dataset-meters/test/bookstore_3.txt',sep=' ', header=None, names=['time','id','x','y'])\n",
        "\n",
        "df_test.describe(include=\"all\")"
      ],
      "metadata": {
        "colab": {
          "base_uri": "https://localhost:8080/",
          "height": 300
        },
        "id": "o-EGa5Ccpx9Q",
        "outputId": "9984dd34-35eb-4d4b-bde6-d82a5540c266"
      },
      "execution_count": null,
      "outputs": [
        {
          "output_type": "execute_result",
          "data": {
            "text/plain": [
              "               time           id            x            y\n",
              "count   8460.000000  8460.000000  8460.000000  8460.000000\n",
              "mean    7846.879433   211.000000    -2.098361    -1.368573\n",
              "std     4228.993127   122.116458    14.998730    12.236613\n",
              "min        0.000000     0.000000   -27.486000   -20.879000\n",
              "25%     3912.000000   105.000000   -19.021000   -13.469000\n",
              "50%     7716.000000   211.000000     0.059000    -4.437500\n",
              "75%    11640.000000   317.000000    10.752000    10.400000\n",
              "max    14484.000000   422.000000    23.401000    20.664000"
            ],
            "text/html": [
              "\n",
              "  <div id=\"df-683ab1ba-1b12-4e38-9e63-b679e6034017\">\n",
              "    <div class=\"colab-df-container\">\n",
              "      <div>\n",
              "<style scoped>\n",
              "    .dataframe tbody tr th:only-of-type {\n",
              "        vertical-align: middle;\n",
              "    }\n",
              "\n",
              "    .dataframe tbody tr th {\n",
              "        vertical-align: top;\n",
              "    }\n",
              "\n",
              "    .dataframe thead th {\n",
              "        text-align: right;\n",
              "    }\n",
              "</style>\n",
              "<table border=\"1\" class=\"dataframe\">\n",
              "  <thead>\n",
              "    <tr style=\"text-align: right;\">\n",
              "      <th></th>\n",
              "      <th>time</th>\n",
              "      <th>id</th>\n",
              "      <th>x</th>\n",
              "      <th>y</th>\n",
              "    </tr>\n",
              "  </thead>\n",
              "  <tbody>\n",
              "    <tr>\n",
              "      <th>count</th>\n",
              "      <td>8460.000000</td>\n",
              "      <td>8460.000000</td>\n",
              "      <td>8460.000000</td>\n",
              "      <td>8460.000000</td>\n",
              "    </tr>\n",
              "    <tr>\n",
              "      <th>mean</th>\n",
              "      <td>7846.879433</td>\n",
              "      <td>211.000000</td>\n",
              "      <td>-2.098361</td>\n",
              "      <td>-1.368573</td>\n",
              "    </tr>\n",
              "    <tr>\n",
              "      <th>std</th>\n",
              "      <td>4228.993127</td>\n",
              "      <td>122.116458</td>\n",
              "      <td>14.998730</td>\n",
              "      <td>12.236613</td>\n",
              "    </tr>\n",
              "    <tr>\n",
              "      <th>min</th>\n",
              "      <td>0.000000</td>\n",
              "      <td>0.000000</td>\n",
              "      <td>-27.486000</td>\n",
              "      <td>-20.879000</td>\n",
              "    </tr>\n",
              "    <tr>\n",
              "      <th>25%</th>\n",
              "      <td>3912.000000</td>\n",
              "      <td>105.000000</td>\n",
              "      <td>-19.021000</td>\n",
              "      <td>-13.469000</td>\n",
              "    </tr>\n",
              "    <tr>\n",
              "      <th>50%</th>\n",
              "      <td>7716.000000</td>\n",
              "      <td>211.000000</td>\n",
              "      <td>0.059000</td>\n",
              "      <td>-4.437500</td>\n",
              "    </tr>\n",
              "    <tr>\n",
              "      <th>75%</th>\n",
              "      <td>11640.000000</td>\n",
              "      <td>317.000000</td>\n",
              "      <td>10.752000</td>\n",
              "      <td>10.400000</td>\n",
              "    </tr>\n",
              "    <tr>\n",
              "      <th>max</th>\n",
              "      <td>14484.000000</td>\n",
              "      <td>422.000000</td>\n",
              "      <td>23.401000</td>\n",
              "      <td>20.664000</td>\n",
              "    </tr>\n",
              "  </tbody>\n",
              "</table>\n",
              "</div>\n",
              "      <button class=\"colab-df-convert\" onclick=\"convertToInteractive('df-683ab1ba-1b12-4e38-9e63-b679e6034017')\"\n",
              "              title=\"Convert this dataframe to an interactive table.\"\n",
              "              style=\"display:none;\">\n",
              "        \n",
              "  <svg xmlns=\"http://www.w3.org/2000/svg\" height=\"24px\"viewBox=\"0 0 24 24\"\n",
              "       width=\"24px\">\n",
              "    <path d=\"M0 0h24v24H0V0z\" fill=\"none\"/>\n",
              "    <path d=\"M18.56 5.44l.94 2.06.94-2.06 2.06-.94-2.06-.94-.94-2.06-.94 2.06-2.06.94zm-11 1L8.5 8.5l.94-2.06 2.06-.94-2.06-.94L8.5 2.5l-.94 2.06-2.06.94zm10 10l.94 2.06.94-2.06 2.06-.94-2.06-.94-.94-2.06-.94 2.06-2.06.94z\"/><path d=\"M17.41 7.96l-1.37-1.37c-.4-.4-.92-.59-1.43-.59-.52 0-1.04.2-1.43.59L10.3 9.45l-7.72 7.72c-.78.78-.78 2.05 0 2.83L4 21.41c.39.39.9.59 1.41.59.51 0 1.02-.2 1.41-.59l7.78-7.78 2.81-2.81c.8-.78.8-2.07 0-2.86zM5.41 20L4 18.59l7.72-7.72 1.47 1.35L5.41 20z\"/>\n",
              "  </svg>\n",
              "      </button>\n",
              "      \n",
              "  <style>\n",
              "    .colab-df-container {\n",
              "      display:flex;\n",
              "      flex-wrap:wrap;\n",
              "      gap: 12px;\n",
              "    }\n",
              "\n",
              "    .colab-df-convert {\n",
              "      background-color: #E8F0FE;\n",
              "      border: none;\n",
              "      border-radius: 50%;\n",
              "      cursor: pointer;\n",
              "      display: none;\n",
              "      fill: #1967D2;\n",
              "      height: 32px;\n",
              "      padding: 0 0 0 0;\n",
              "      width: 32px;\n",
              "    }\n",
              "\n",
              "    .colab-df-convert:hover {\n",
              "      background-color: #E2EBFA;\n",
              "      box-shadow: 0px 1px 2px rgba(60, 64, 67, 0.3), 0px 1px 3px 1px rgba(60, 64, 67, 0.15);\n",
              "      fill: #174EA6;\n",
              "    }\n",
              "\n",
              "    [theme=dark] .colab-df-convert {\n",
              "      background-color: #3B4455;\n",
              "      fill: #D2E3FC;\n",
              "    }\n",
              "\n",
              "    [theme=dark] .colab-df-convert:hover {\n",
              "      background-color: #434B5C;\n",
              "      box-shadow: 0px 1px 3px 1px rgba(0, 0, 0, 0.15);\n",
              "      filter: drop-shadow(0px 1px 2px rgba(0, 0, 0, 0.3));\n",
              "      fill: #FFFFFF;\n",
              "    }\n",
              "  </style>\n",
              "\n",
              "      <script>\n",
              "        const buttonEl =\n",
              "          document.querySelector('#df-683ab1ba-1b12-4e38-9e63-b679e6034017 button.colab-df-convert');\n",
              "        buttonEl.style.display =\n",
              "          google.colab.kernel.accessAllowed ? 'block' : 'none';\n",
              "\n",
              "        async function convertToInteractive(key) {\n",
              "          const element = document.querySelector('#df-683ab1ba-1b12-4e38-9e63-b679e6034017');\n",
              "          const dataTable =\n",
              "            await google.colab.kernel.invokeFunction('convertToInteractive',\n",
              "                                                     [key], {});\n",
              "          if (!dataTable) return;\n",
              "\n",
              "          const docLinkHtml = 'Like what you see? Visit the ' +\n",
              "            '<a target=\"_blank\" href=https://colab.research.google.com/notebooks/data_table.ipynb>data table notebook</a>'\n",
              "            + ' to learn more about interactive tables.';\n",
              "          element.innerHTML = '';\n",
              "          dataTable['output_type'] = 'display_data';\n",
              "          await google.colab.output.renderOutput(dataTable, element);\n",
              "          const docLink = document.createElement('div');\n",
              "          docLink.innerHTML = docLinkHtml;\n",
              "          element.appendChild(docLink);\n",
              "        }\n",
              "      </script>\n",
              "    </div>\n",
              "  </div>\n",
              "  "
            ]
          },
          "metadata": {},
          "execution_count": 36
        }
      ]
    },
    {
      "cell_type": "markdown",
      "source": [
        "Normalización de datos de prueba:"
      ],
      "metadata": {
        "id": "cn027v_lNvBc"
      }
    },
    {
      "cell_type": "code",
      "source": [
        "#Normalizar datos de test\n",
        "id_column_test = df_test.id\n",
        "df_test.drop(columns=['time','id'], axis=1, inplace=True) #se quita la feature time del dataset\n",
        "\n",
        "df_test = pd.DataFrame(scaler.fit_transform(df_test), columns=df_test.columns)\n",
        "df_test['id'] = id_column_test\n"
      ],
      "metadata": {
        "id": "0UAG_oR3srRg"
      },
      "execution_count": null,
      "outputs": []
    },
    {
      "cell_type": "code",
      "source": [
        "#división de features x, y para utilizarlos en el modelo de entrada multiple\n",
        "X_test, y_test = sequences_to_supervised(df_test, n_steps_in, n_steps_out, n_features)"
      ],
      "metadata": {
        "id": "oZH9QZKEBQq1"
      },
      "execution_count": null,
      "outputs": []
    },
    {
      "cell_type": "markdown",
      "source": [
        "#####Metricas del modelo con datos de prueba"
      ],
      "metadata": {
        "id": "BdU7NXIHN-g1"
      }
    },
    {
      "cell_type": "code",
      "source": [
        "score = model.evaluate(X_test, y_test, verbose=1, batch_size=8)\n",
        "\n",
        "print(\"\\n\")\n",
        "print(model.metrics_names)\n",
        "print(score)"
      ],
      "metadata": {
        "colab": {
          "base_uri": "https://localhost:8080/"
        },
        "id": "NCpn4bWfGaE3",
        "outputId": "46df5ee4-d10f-43fb-b3ee-cca073a6ec4c"
      },
      "execution_count": null,
      "outputs": [
        {
          "output_type": "stream",
          "name": "stdout",
          "text": [
            "53/53 [==============================] - 2s 30ms/step - loss: 2.5774e-04\n",
            "\n",
            "\n",
            "['loss']\n",
            "0.000257743988186121\n"
          ]
        }
      ]
    },
    {
      "cell_type": "code",
      "source": [
        "#prediccion\n",
        "results_test = model.predict(X_test)"
      ],
      "metadata": {
        "id": "EHoThgklG4tj"
      },
      "execution_count": null,
      "outputs": []
    },
    {
      "cell_type": "code",
      "source": [
        "results_test = results_test.reshape(results_test.shape[0], 12, 2)\n"
      ],
      "metadata": {
        "id": "nqepbGMHG4tk"
      },
      "execution_count": null,
      "outputs": []
    },
    {
      "cell_type": "markdown",
      "source": [
        "Denormalización de datos:"
      ],
      "metadata": {
        "id": "DZtzCa4mOHQK"
      }
    },
    {
      "cell_type": "code",
      "source": [
        "#redimensionamiento para tener un array en 2D y poder denormalizar X\n",
        "X_test_denormalized = np.array(X_test)\n",
        "X_test_denormalized = X_test_denormalized.reshape(X_test_denormalized.shape[0]*X_test_denormalized.shape[1],X_denormalized.shape[2])\n",
        "X_test_denormalized =  scaler.inverse_transform(X_test_denormalized)\n",
        "X_test_denormalized = X_test_denormalized.reshape(X_test.shape[0],X_test.shape[1],X_test.shape[2])\n",
        "\n",
        "#redimensionamiento para tener un array en 2D y poder denormalizar Y\n",
        "Y_test_denormalized = np.array(y_test)\n",
        "Y_test_denormalized = Y_test_denormalized.reshape(Y_test_denormalized.shape[0]*Y_test_denormalized.shape[1],Y_test_denormalized.shape[2])\n",
        "Y_test_denormalized =  scaler.inverse_transform(Y_test_denormalized)\n",
        "Y_test_denormalized = Y_test_denormalized.reshape(y_test.shape[0],y_test.shape[1],y_test.shape[2])\n",
        "\n",
        "#redimensionamiento para tener un array en 2D y poder denormalizar Results\n",
        "results_test_denormalized = np.array(results_test)\n",
        "results_test_denormalized = results_test_denormalized.reshape(results_test_denormalized.shape[0]*results_test_denormalized.shape[1],results_test_denormalized.shape[2])\n",
        "results_test_denormalized =  scaler.inverse_transform(results_test_denormalized)\n",
        "results_test_denormalized = results_test_denormalized.reshape(results_test.shape[0],results_test.shape[1],results_test.shape[2])\n",
        "\n"
      ],
      "metadata": {
        "id": "d4TH2MayG6Ac"
      },
      "execution_count": null,
      "outputs": []
    },
    {
      "cell_type": "markdown",
      "source": [
        "**Error ADE, FDE del test data:**"
      ],
      "metadata": {
        "id": "p3IUGka0OVA2"
      }
    },
    {
      "cell_type": "code",
      "source": [
        "#calculo de error de las trayectorias ADE, FDE con datos denormalizados\n",
        "ADE_Test, FDE_Test = calculate_error_batch(results_test_denormalized,Y_test_denormalized)\n",
        "print(\"ADE:\",ADE_Test, \"FDE:\",FDE_Test)"
      ],
      "metadata": {
        "id": "c84u2FSrOXae",
        "colab": {
          "base_uri": "https://localhost:8080/"
        },
        "outputId": "6227b272-2eef-47b3-c045-60b282ca3b92"
      },
      "execution_count": null,
      "outputs": [
        {
          "output_type": "stream",
          "name": "stdout",
          "text": [
            "ADE: 0.6909170202545438 FDE: 1.318574503561969\n"
          ]
        }
      ]
    },
    {
      "cell_type": "code",
      "source": [
        "n=10\n",
        "print_trayectoria(X_test_denormalized,Y_test_denormalized,results_test_denormalized,n)\n",
        "print(average_displacement_error(results_test_denormalized[n],y[n]))"
      ],
      "metadata": {
        "colab": {
          "base_uri": "https://localhost:8080/",
          "height": 282
        },
        "id": "aFcqPIikISWd",
        "outputId": "581b2722-ceff-406c-ceb1-aa549a701a71"
      },
      "execution_count": null,
      "outputs": [
        {
          "output_type": "display_data",
          "data": {
            "text/plain": [
              "<Figure size 288x288 with 1 Axes>"
            ],
            "image/png": "[encoded data removed]"
          },
          "metadata": {
            "needs_background": "light"
          }
        },
        {
          "output_type": "stream",
          "name": "stdout",
          "text": [
            "(15.52028009616693, 18.469791780953447)\n"
          ]
        }
      ]
    },
    {
      "cell_type": "code",
      "source": [],
      "metadata": {
        "id": "grl7OVa_Iles"
      },
      "execution_count": null,
      "outputs": []
    }
  ]
}